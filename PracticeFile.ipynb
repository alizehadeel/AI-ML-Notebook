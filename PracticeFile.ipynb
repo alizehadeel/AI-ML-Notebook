{
  "cells": [
    {
      "cell_type": "markdown",
      "metadata": {
        "id": "view-in-github",
        "colab_type": "text"
      },
      "source": [
        "<a href=\"https://colab.research.google.com/github/alizehadeel/AI-ML-Notebook/blob/main/PracticeFile.ipynb\" target=\"_parent\"><img src=\"https://colab.research.google.com/assets/colab-badge.svg\" alt=\"Open In Colab\"/></a>"
      ]
    },
    {
      "cell_type": "markdown",
      "id": "99e9e4a9",
      "metadata": {
        "id": "99e9e4a9"
      },
      "source": [
        "# Credit Approval Dataset ML Pipeline\n",
        "This notebook performs preprocessing, feature selection, and machine learning modeling on the UCI Credit Approval dataset. Models include Logistic Regression, SVM, KNN, Decision Tree, and Random Forest, compared by Accuracy, Precision, Recall, and F1."
      ]
    },
    {
      "cell_type": "code",
      "execution_count": 1,
      "id": "5df2c250",
      "metadata": {
        "id": "5df2c250"
      },
      "outputs": [],
      "source": [
        "\n",
        "# Credit Approval ML pipeline\n",
        "\n",
        "import os\n",
        "import urllib.request\n",
        "import numpy as np\n",
        "import pandas as pd\n",
        "from sklearn.model_selection import train_test_split\n",
        "from sklearn.preprocessing import StandardScaler, OrdinalEncoder, LabelEncoder\n",
        "from sklearn.impute import SimpleImputer\n",
        "from sklearn.linear_model import LogisticRegression\n",
        "from sklearn.svm import SVC\n",
        "from sklearn.neighbors import KNeighborsClassifier\n",
        "from sklearn.tree import DecisionTreeClassifier\n",
        "from sklearn.ensemble import RandomForestClassifier\n",
        "from sklearn.metrics import accuracy_score, precision_score, recall_score, f1_score, classification_report, confusion_matrix\n",
        "import matplotlib.pyplot as plt\n",
        "\n",
        "# Full pipeline code goes here, see the canvas file. (Omitted for brevity in this snippet.)\n"
      ]
    },
    {
      "cell_type": "markdown",
      "id": "YGLVq_jeTtNj",
      "metadata": {
        "id": "YGLVq_jeTtNj"
      },
      "source": [
        "## Read the Dataset"
      ]
    },
    {
      "cell_type": "code",
      "execution_count": 2,
      "id": "923e788c",
      "metadata": {
        "id": "923e788c",
        "outputId": "3179076f-05a2-406f-c417-d2e7f5d3db4e",
        "colab": {
          "base_uri": "https://localhost:8080/"
        }
      },
      "outputs": [
        {
          "output_type": "stream",
          "name": "stdout",
          "text": [
            "Downloading dataset from UCI...\n",
            "Downloaded to crx.data\n"
          ]
        }
      ],
      "source": [
        "# 1) Load dataset\n",
        "uci_url = 'https://archive.ics.uci.edu/ml/machine-learning-databases/credit-screening/crx.data'\n",
        "local_filename = 'crx.data'\n",
        "\n",
        "\n",
        "if not os.path.exists(local_filename):\n",
        "  try:\n",
        "    print('Downloading dataset from UCI...')\n",
        "    urllib.request.urlretrieve(uci_url, local_filename)\n",
        "    print('Downloaded to', local_filename)\n",
        "  except Exception as e:\n",
        "    print('Could not download dataset automatically. Please download manually from:')\n",
        "    print(uci_url)\n",
        "\n",
        "\n",
        "\n",
        "# column names: A1..A15 and the last column is the class\n",
        "col_names = [f'A{i}' for i in range(1, 16)] + ['class']\n",
        "\n",
        "\n",
        "df = pd.read_csv(local_filename, header=None, names=col_names, na_values='?')"
      ]
    },
    {
      "cell_type": "markdown",
      "id": "IbxwaT3WTwni",
      "metadata": {
        "id": "IbxwaT3WTwni"
      },
      "source": [
        "# EDA Dataset (Find missing + string columns)"
      ]
    },
    {
      "cell_type": "code",
      "execution_count": 3,
      "id": "UenqJPrVTwTI",
      "metadata": {
        "id": "UenqJPrVTwTI",
        "outputId": "2159978a-5cda-47c1-93f3-a2363b53ea8b",
        "colab": {
          "base_uri": "https://localhost:8080/",
          "height": 206
        }
      },
      "outputs": [
        {
          "output_type": "execute_result",
          "data": {
            "text/plain": [
              "  A1     A2     A3 A4 A5 A6 A7    A8 A9 A10  A11 A12 A13    A14  A15 class\n",
              "0  b  30.83  0.000  u  g  w  v  1.25  t   t    1   f   g  202.0    0     +\n",
              "1  a  58.67  4.460  u  g  q  h  3.04  t   t    6   f   g   43.0  560     +\n",
              "2  a  24.50  0.500  u  g  q  h  1.50  t   f    0   f   g  280.0  824     +\n",
              "3  b  27.83  1.540  u  g  w  v  3.75  t   t    5   t   g  100.0    3     +\n",
              "4  b  20.17  5.625  u  g  w  v  1.71  t   f    0   f   s  120.0    0     +"
            ],
            "text/html": [
              "\n",
              "  <div id=\"df-dc9d61bf-5439-4fc3-9d73-86239d4ea1c6\" class=\"colab-df-container\">\n",
              "    <div>\n",
              "<style scoped>\n",
              "    .dataframe tbody tr th:only-of-type {\n",
              "        vertical-align: middle;\n",
              "    }\n",
              "\n",
              "    .dataframe tbody tr th {\n",
              "        vertical-align: top;\n",
              "    }\n",
              "\n",
              "    .dataframe thead th {\n",
              "        text-align: right;\n",
              "    }\n",
              "</style>\n",
              "<table border=\"1\" class=\"dataframe\">\n",
              "  <thead>\n",
              "    <tr style=\"text-align: right;\">\n",
              "      <th></th>\n",
              "      <th>A1</th>\n",
              "      <th>A2</th>\n",
              "      <th>A3</th>\n",
              "      <th>A4</th>\n",
              "      <th>A5</th>\n",
              "      <th>A6</th>\n",
              "      <th>A7</th>\n",
              "      <th>A8</th>\n",
              "      <th>A9</th>\n",
              "      <th>A10</th>\n",
              "      <th>A11</th>\n",
              "      <th>A12</th>\n",
              "      <th>A13</th>\n",
              "      <th>A14</th>\n",
              "      <th>A15</th>\n",
              "      <th>class</th>\n",
              "    </tr>\n",
              "  </thead>\n",
              "  <tbody>\n",
              "    <tr>\n",
              "      <th>0</th>\n",
              "      <td>b</td>\n",
              "      <td>30.83</td>\n",
              "      <td>0.000</td>\n",
              "      <td>u</td>\n",
              "      <td>g</td>\n",
              "      <td>w</td>\n",
              "      <td>v</td>\n",
              "      <td>1.25</td>\n",
              "      <td>t</td>\n",
              "      <td>t</td>\n",
              "      <td>1</td>\n",
              "      <td>f</td>\n",
              "      <td>g</td>\n",
              "      <td>202.0</td>\n",
              "      <td>0</td>\n",
              "      <td>+</td>\n",
              "    </tr>\n",
              "    <tr>\n",
              "      <th>1</th>\n",
              "      <td>a</td>\n",
              "      <td>58.67</td>\n",
              "      <td>4.460</td>\n",
              "      <td>u</td>\n",
              "      <td>g</td>\n",
              "      <td>q</td>\n",
              "      <td>h</td>\n",
              "      <td>3.04</td>\n",
              "      <td>t</td>\n",
              "      <td>t</td>\n",
              "      <td>6</td>\n",
              "      <td>f</td>\n",
              "      <td>g</td>\n",
              "      <td>43.0</td>\n",
              "      <td>560</td>\n",
              "      <td>+</td>\n",
              "    </tr>\n",
              "    <tr>\n",
              "      <th>2</th>\n",
              "      <td>a</td>\n",
              "      <td>24.50</td>\n",
              "      <td>0.500</td>\n",
              "      <td>u</td>\n",
              "      <td>g</td>\n",
              "      <td>q</td>\n",
              "      <td>h</td>\n",
              "      <td>1.50</td>\n",
              "      <td>t</td>\n",
              "      <td>f</td>\n",
              "      <td>0</td>\n",
              "      <td>f</td>\n",
              "      <td>g</td>\n",
              "      <td>280.0</td>\n",
              "      <td>824</td>\n",
              "      <td>+</td>\n",
              "    </tr>\n",
              "    <tr>\n",
              "      <th>3</th>\n",
              "      <td>b</td>\n",
              "      <td>27.83</td>\n",
              "      <td>1.540</td>\n",
              "      <td>u</td>\n",
              "      <td>g</td>\n",
              "      <td>w</td>\n",
              "      <td>v</td>\n",
              "      <td>3.75</td>\n",
              "      <td>t</td>\n",
              "      <td>t</td>\n",
              "      <td>5</td>\n",
              "      <td>t</td>\n",
              "      <td>g</td>\n",
              "      <td>100.0</td>\n",
              "      <td>3</td>\n",
              "      <td>+</td>\n",
              "    </tr>\n",
              "    <tr>\n",
              "      <th>4</th>\n",
              "      <td>b</td>\n",
              "      <td>20.17</td>\n",
              "      <td>5.625</td>\n",
              "      <td>u</td>\n",
              "      <td>g</td>\n",
              "      <td>w</td>\n",
              "      <td>v</td>\n",
              "      <td>1.71</td>\n",
              "      <td>t</td>\n",
              "      <td>f</td>\n",
              "      <td>0</td>\n",
              "      <td>f</td>\n",
              "      <td>s</td>\n",
              "      <td>120.0</td>\n",
              "      <td>0</td>\n",
              "      <td>+</td>\n",
              "    </tr>\n",
              "  </tbody>\n",
              "</table>\n",
              "</div>\n",
              "    <div class=\"colab-df-buttons\">\n",
              "\n",
              "  <div class=\"colab-df-container\">\n",
              "    <button class=\"colab-df-convert\" onclick=\"convertToInteractive('df-dc9d61bf-5439-4fc3-9d73-86239d4ea1c6')\"\n",
              "            title=\"Convert this dataframe to an interactive table.\"\n",
              "            style=\"display:none;\">\n",
              "\n",
              "  <svg xmlns=\"http://www.w3.org/2000/svg\" height=\"24px\" viewBox=\"0 -960 960 960\">\n",
              "    <path d=\"M120-120v-720h720v720H120Zm60-500h600v-160H180v160Zm220 220h160v-160H400v160Zm0 220h160v-160H400v160ZM180-400h160v-160H180v160Zm440 0h160v-160H620v160ZM180-180h160v-160H180v160Zm440 0h160v-160H620v160Z\"/>\n",
              "  </svg>\n",
              "    </button>\n",
              "\n",
              "  <style>\n",
              "    .colab-df-container {\n",
              "      display:flex;\n",
              "      gap: 12px;\n",
              "    }\n",
              "\n",
              "    .colab-df-convert {\n",
              "      background-color: #E8F0FE;\n",
              "      border: none;\n",
              "      border-radius: 50%;\n",
              "      cursor: pointer;\n",
              "      display: none;\n",
              "      fill: #1967D2;\n",
              "      height: 32px;\n",
              "      padding: 0 0 0 0;\n",
              "      width: 32px;\n",
              "    }\n",
              "\n",
              "    .colab-df-convert:hover {\n",
              "      background-color: #E2EBFA;\n",
              "      box-shadow: 0px 1px 2px rgba(60, 64, 67, 0.3), 0px 1px 3px 1px rgba(60, 64, 67, 0.15);\n",
              "      fill: #174EA6;\n",
              "    }\n",
              "\n",
              "    .colab-df-buttons div {\n",
              "      margin-bottom: 4px;\n",
              "    }\n",
              "\n",
              "    [theme=dark] .colab-df-convert {\n",
              "      background-color: #3B4455;\n",
              "      fill: #D2E3FC;\n",
              "    }\n",
              "\n",
              "    [theme=dark] .colab-df-convert:hover {\n",
              "      background-color: #434B5C;\n",
              "      box-shadow: 0px 1px 3px 1px rgba(0, 0, 0, 0.15);\n",
              "      filter: drop-shadow(0px 1px 2px rgba(0, 0, 0, 0.3));\n",
              "      fill: #FFFFFF;\n",
              "    }\n",
              "  </style>\n",
              "\n",
              "    <script>\n",
              "      const buttonEl =\n",
              "        document.querySelector('#df-dc9d61bf-5439-4fc3-9d73-86239d4ea1c6 button.colab-df-convert');\n",
              "      buttonEl.style.display =\n",
              "        google.colab.kernel.accessAllowed ? 'block' : 'none';\n",
              "\n",
              "      async function convertToInteractive(key) {\n",
              "        const element = document.querySelector('#df-dc9d61bf-5439-4fc3-9d73-86239d4ea1c6');\n",
              "        const dataTable =\n",
              "          await google.colab.kernel.invokeFunction('convertToInteractive',\n",
              "                                                    [key], {});\n",
              "        if (!dataTable) return;\n",
              "\n",
              "        const docLinkHtml = 'Like what you see? Visit the ' +\n",
              "          '<a target=\"_blank\" href=https://colab.research.google.com/notebooks/data_table.ipynb>data table notebook</a>'\n",
              "          + ' to learn more about interactive tables.';\n",
              "        element.innerHTML = '';\n",
              "        dataTable['output_type'] = 'display_data';\n",
              "        await google.colab.output.renderOutput(dataTable, element);\n",
              "        const docLink = document.createElement('div');\n",
              "        docLink.innerHTML = docLinkHtml;\n",
              "        element.appendChild(docLink);\n",
              "      }\n",
              "    </script>\n",
              "  </div>\n",
              "\n",
              "\n",
              "    <div id=\"df-7a6140cb-f8a5-4a3a-8ebd-b44d9ccf3d09\">\n",
              "      <button class=\"colab-df-quickchart\" onclick=\"quickchart('df-7a6140cb-f8a5-4a3a-8ebd-b44d9ccf3d09')\"\n",
              "                title=\"Suggest charts\"\n",
              "                style=\"display:none;\">\n",
              "\n",
              "<svg xmlns=\"http://www.w3.org/2000/svg\" height=\"24px\"viewBox=\"0 0 24 24\"\n",
              "     width=\"24px\">\n",
              "    <g>\n",
              "        <path d=\"M19 3H5c-1.1 0-2 .9-2 2v14c0 1.1.9 2 2 2h14c1.1 0 2-.9 2-2V5c0-1.1-.9-2-2-2zM9 17H7v-7h2v7zm4 0h-2V7h2v10zm4 0h-2v-4h2v4z\"/>\n",
              "    </g>\n",
              "</svg>\n",
              "      </button>\n",
              "\n",
              "<style>\n",
              "  .colab-df-quickchart {\n",
              "      --bg-color: #E8F0FE;\n",
              "      --fill-color: #1967D2;\n",
              "      --hover-bg-color: #E2EBFA;\n",
              "      --hover-fill-color: #174EA6;\n",
              "      --disabled-fill-color: #AAA;\n",
              "      --disabled-bg-color: #DDD;\n",
              "  }\n",
              "\n",
              "  [theme=dark] .colab-df-quickchart {\n",
              "      --bg-color: #3B4455;\n",
              "      --fill-color: #D2E3FC;\n",
              "      --hover-bg-color: #434B5C;\n",
              "      --hover-fill-color: #FFFFFF;\n",
              "      --disabled-bg-color: #3B4455;\n",
              "      --disabled-fill-color: #666;\n",
              "  }\n",
              "\n",
              "  .colab-df-quickchart {\n",
              "    background-color: var(--bg-color);\n",
              "    border: none;\n",
              "    border-radius: 50%;\n",
              "    cursor: pointer;\n",
              "    display: none;\n",
              "    fill: var(--fill-color);\n",
              "    height: 32px;\n",
              "    padding: 0;\n",
              "    width: 32px;\n",
              "  }\n",
              "\n",
              "  .colab-df-quickchart:hover {\n",
              "    background-color: var(--hover-bg-color);\n",
              "    box-shadow: 0 1px 2px rgba(60, 64, 67, 0.3), 0 1px 3px 1px rgba(60, 64, 67, 0.15);\n",
              "    fill: var(--button-hover-fill-color);\n",
              "  }\n",
              "\n",
              "  .colab-df-quickchart-complete:disabled,\n",
              "  .colab-df-quickchart-complete:disabled:hover {\n",
              "    background-color: var(--disabled-bg-color);\n",
              "    fill: var(--disabled-fill-color);\n",
              "    box-shadow: none;\n",
              "  }\n",
              "\n",
              "  .colab-df-spinner {\n",
              "    border: 2px solid var(--fill-color);\n",
              "    border-color: transparent;\n",
              "    border-bottom-color: var(--fill-color);\n",
              "    animation:\n",
              "      spin 1s steps(1) infinite;\n",
              "  }\n",
              "\n",
              "  @keyframes spin {\n",
              "    0% {\n",
              "      border-color: transparent;\n",
              "      border-bottom-color: var(--fill-color);\n",
              "      border-left-color: var(--fill-color);\n",
              "    }\n",
              "    20% {\n",
              "      border-color: transparent;\n",
              "      border-left-color: var(--fill-color);\n",
              "      border-top-color: var(--fill-color);\n",
              "    }\n",
              "    30% {\n",
              "      border-color: transparent;\n",
              "      border-left-color: var(--fill-color);\n",
              "      border-top-color: var(--fill-color);\n",
              "      border-right-color: var(--fill-color);\n",
              "    }\n",
              "    40% {\n",
              "      border-color: transparent;\n",
              "      border-right-color: var(--fill-color);\n",
              "      border-top-color: var(--fill-color);\n",
              "    }\n",
              "    60% {\n",
              "      border-color: transparent;\n",
              "      border-right-color: var(--fill-color);\n",
              "    }\n",
              "    80% {\n",
              "      border-color: transparent;\n",
              "      border-right-color: var(--fill-color);\n",
              "      border-bottom-color: var(--fill-color);\n",
              "    }\n",
              "    90% {\n",
              "      border-color: transparent;\n",
              "      border-bottom-color: var(--fill-color);\n",
              "    }\n",
              "  }\n",
              "</style>\n",
              "\n",
              "      <script>\n",
              "        async function quickchart(key) {\n",
              "          const quickchartButtonEl =\n",
              "            document.querySelector('#' + key + ' button');\n",
              "          quickchartButtonEl.disabled = true;  // To prevent multiple clicks.\n",
              "          quickchartButtonEl.classList.add('colab-df-spinner');\n",
              "          try {\n",
              "            const charts = await google.colab.kernel.invokeFunction(\n",
              "                'suggestCharts', [key], {});\n",
              "          } catch (error) {\n",
              "            console.error('Error during call to suggestCharts:', error);\n",
              "          }\n",
              "          quickchartButtonEl.classList.remove('colab-df-spinner');\n",
              "          quickchartButtonEl.classList.add('colab-df-quickchart-complete');\n",
              "        }\n",
              "        (() => {\n",
              "          let quickchartButtonEl =\n",
              "            document.querySelector('#df-7a6140cb-f8a5-4a3a-8ebd-b44d9ccf3d09 button');\n",
              "          quickchartButtonEl.style.display =\n",
              "            google.colab.kernel.accessAllowed ? 'block' : 'none';\n",
              "        })();\n",
              "      </script>\n",
              "    </div>\n",
              "\n",
              "    </div>\n",
              "  </div>\n"
            ],
            "application/vnd.google.colaboratory.intrinsic+json": {
              "type": "dataframe",
              "variable_name": "df",
              "summary": "{\n  \"name\": \"df\",\n  \"rows\": 690,\n  \"fields\": [\n    {\n      \"column\": \"A1\",\n      \"properties\": {\n        \"dtype\": \"category\",\n        \"num_unique_values\": 2,\n        \"samples\": [\n          \"a\",\n          \"b\"\n        ],\n        \"semantic_type\": \"\",\n        \"description\": \"\"\n      }\n    },\n    {\n      \"column\": \"A2\",\n      \"properties\": {\n        \"dtype\": \"number\",\n        \"std\": 11.957862498270877,\n        \"min\": 13.75,\n        \"max\": 80.25,\n        \"num_unique_values\": 349,\n        \"samples\": [\n          34.5,\n          31.58\n        ],\n        \"semantic_type\": \"\",\n        \"description\": \"\"\n      }\n    },\n    {\n      \"column\": \"A3\",\n      \"properties\": {\n        \"dtype\": \"number\",\n        \"std\": 4.978163248528541,\n        \"min\": 0.0,\n        \"max\": 28.0,\n        \"num_unique_values\": 215,\n        \"samples\": [\n          10.415,\n          3.29\n        ],\n        \"semantic_type\": \"\",\n        \"description\": \"\"\n      }\n    },\n    {\n      \"column\": \"A4\",\n      \"properties\": {\n        \"dtype\": \"category\",\n        \"num_unique_values\": 3,\n        \"samples\": [\n          \"u\",\n          \"y\"\n        ],\n        \"semantic_type\": \"\",\n        \"description\": \"\"\n      }\n    },\n    {\n      \"column\": \"A5\",\n      \"properties\": {\n        \"dtype\": \"category\",\n        \"num_unique_values\": 3,\n        \"samples\": [\n          \"g\",\n          \"p\"\n        ],\n        \"semantic_type\": \"\",\n        \"description\": \"\"\n      }\n    },\n    {\n      \"column\": \"A6\",\n      \"properties\": {\n        \"dtype\": \"category\",\n        \"num_unique_values\": 14,\n        \"samples\": [\n          \"i\",\n          \"aa\"\n        ],\n        \"semantic_type\": \"\",\n        \"description\": \"\"\n      }\n    },\n    {\n      \"column\": \"A7\",\n      \"properties\": {\n        \"dtype\": \"category\",\n        \"num_unique_values\": 9,\n        \"samples\": [\n          \"dd\",\n          \"h\"\n        ],\n        \"semantic_type\": \"\",\n        \"description\": \"\"\n      }\n    },\n    {\n      \"column\": \"A8\",\n      \"properties\": {\n        \"dtype\": \"number\",\n        \"std\": 3.3465133592781333,\n        \"min\": 0.0,\n        \"max\": 28.5,\n        \"num_unique_values\": 132,\n        \"samples\": [\n          13.5,\n          2.375\n        ],\n        \"semantic_type\": \"\",\n        \"description\": \"\"\n      }\n    },\n    {\n      \"column\": \"A9\",\n      \"properties\": {\n        \"dtype\": \"category\",\n        \"num_unique_values\": 2,\n        \"samples\": [\n          \"f\",\n          \"t\"\n        ],\n        \"semantic_type\": \"\",\n        \"description\": \"\"\n      }\n    },\n    {\n      \"column\": \"A10\",\n      \"properties\": {\n        \"dtype\": \"category\",\n        \"num_unique_values\": 2,\n        \"samples\": [\n          \"f\",\n          \"t\"\n        ],\n        \"semantic_type\": \"\",\n        \"description\": \"\"\n      }\n    },\n    {\n      \"column\": \"A11\",\n      \"properties\": {\n        \"dtype\": \"number\",\n        \"std\": 4,\n        \"min\": 0,\n        \"max\": 67,\n        \"num_unique_values\": 23,\n        \"samples\": [\n          23,\n          9\n        ],\n        \"semantic_type\": \"\",\n        \"description\": \"\"\n      }\n    },\n    {\n      \"column\": \"A12\",\n      \"properties\": {\n        \"dtype\": \"category\",\n        \"num_unique_values\": 2,\n        \"samples\": [\n          \"t\",\n          \"f\"\n        ],\n        \"semantic_type\": \"\",\n        \"description\": \"\"\n      }\n    },\n    {\n      \"column\": \"A13\",\n      \"properties\": {\n        \"dtype\": \"category\",\n        \"num_unique_values\": 3,\n        \"samples\": [\n          \"g\",\n          \"s\"\n        ],\n        \"semantic_type\": \"\",\n        \"description\": \"\"\n      }\n    },\n    {\n      \"column\": \"A14\",\n      \"properties\": {\n        \"dtype\": \"number\",\n        \"std\": 173.80676822523824,\n        \"min\": 0.0,\n        \"max\": 2000.0,\n        \"num_unique_values\": 170,\n        \"samples\": [\n          263.0,\n          400.0\n        ],\n        \"semantic_type\": \"\",\n        \"description\": \"\"\n      }\n    },\n    {\n      \"column\": \"A15\",\n      \"properties\": {\n        \"dtype\": \"number\",\n        \"std\": 5210,\n        \"min\": 0,\n        \"max\": 100000,\n        \"num_unique_values\": 240,\n        \"samples\": [\n          100,\n          314\n        ],\n        \"semantic_type\": \"\",\n        \"description\": \"\"\n      }\n    },\n    {\n      \"column\": \"class\",\n      \"properties\": {\n        \"dtype\": \"category\",\n        \"num_unique_values\": 2,\n        \"samples\": [\n          \"-\",\n          \"+\"\n        ],\n        \"semantic_type\": \"\",\n        \"description\": \"\"\n      }\n    }\n  ]\n}"
            }
          },
          "metadata": {},
          "execution_count": 3
        }
      ],
      "source": [
        "df.head()\n"
      ]
    },
    {
      "cell_type": "code",
      "execution_count": 4,
      "id": "9b6e4c87",
      "metadata": {
        "colab": {
          "base_uri": "https://localhost:8080/",
          "height": 985
        },
        "id": "9b6e4c87",
        "outputId": "d8422a7d-10a8-4a89-cdaf-26dc42d268e0"
      },
      "outputs": [
        {
          "output_type": "stream",
          "name": "stdout",
          "text": [
            "<class 'pandas.core.frame.DataFrame'>\n",
            "RangeIndex: 690 entries, 0 to 689\n",
            "Data columns (total 16 columns):\n",
            " #   Column  Non-Null Count  Dtype  \n",
            "---  ------  --------------  -----  \n",
            " 0   A1      678 non-null    object \n",
            " 1   A2      678 non-null    float64\n",
            " 2   A3      690 non-null    float64\n",
            " 3   A4      684 non-null    object \n",
            " 4   A5      684 non-null    object \n",
            " 5   A6      681 non-null    object \n",
            " 6   A7      681 non-null    object \n",
            " 7   A8      690 non-null    float64\n",
            " 8   A9      690 non-null    object \n",
            " 9   A10     690 non-null    object \n",
            " 10  A11     690 non-null    int64  \n",
            " 11  A12     690 non-null    object \n",
            " 12  A13     690 non-null    object \n",
            " 13  A14     677 non-null    float64\n",
            " 14  A15     690 non-null    int64  \n",
            " 15  class   690 non-null    object \n",
            "dtypes: float64(4), int64(2), object(10)\n",
            "memory usage: 86.4+ KB\n"
          ]
        },
        {
          "output_type": "execute_result",
          "data": {
            "text/plain": [
              "A1       12\n",
              "A2       12\n",
              "A3        0\n",
              "A4        6\n",
              "A5        6\n",
              "A6        9\n",
              "A7        9\n",
              "A8        0\n",
              "A9        0\n",
              "A10       0\n",
              "A11       0\n",
              "A12       0\n",
              "A13       0\n",
              "A14      13\n",
              "A15       0\n",
              "class     0\n",
              "dtype: int64"
            ],
            "text/html": [
              "<div>\n",
              "<style scoped>\n",
              "    .dataframe tbody tr th:only-of-type {\n",
              "        vertical-align: middle;\n",
              "    }\n",
              "\n",
              "    .dataframe tbody tr th {\n",
              "        vertical-align: top;\n",
              "    }\n",
              "\n",
              "    .dataframe thead th {\n",
              "        text-align: right;\n",
              "    }\n",
              "</style>\n",
              "<table border=\"1\" class=\"dataframe\">\n",
              "  <thead>\n",
              "    <tr style=\"text-align: right;\">\n",
              "      <th></th>\n",
              "      <th>0</th>\n",
              "    </tr>\n",
              "  </thead>\n",
              "  <tbody>\n",
              "    <tr>\n",
              "      <th>A1</th>\n",
              "      <td>12</td>\n",
              "    </tr>\n",
              "    <tr>\n",
              "      <th>A2</th>\n",
              "      <td>12</td>\n",
              "    </tr>\n",
              "    <tr>\n",
              "      <th>A3</th>\n",
              "      <td>0</td>\n",
              "    </tr>\n",
              "    <tr>\n",
              "      <th>A4</th>\n",
              "      <td>6</td>\n",
              "    </tr>\n",
              "    <tr>\n",
              "      <th>A5</th>\n",
              "      <td>6</td>\n",
              "    </tr>\n",
              "    <tr>\n",
              "      <th>A6</th>\n",
              "      <td>9</td>\n",
              "    </tr>\n",
              "    <tr>\n",
              "      <th>A7</th>\n",
              "      <td>9</td>\n",
              "    </tr>\n",
              "    <tr>\n",
              "      <th>A8</th>\n",
              "      <td>0</td>\n",
              "    </tr>\n",
              "    <tr>\n",
              "      <th>A9</th>\n",
              "      <td>0</td>\n",
              "    </tr>\n",
              "    <tr>\n",
              "      <th>A10</th>\n",
              "      <td>0</td>\n",
              "    </tr>\n",
              "    <tr>\n",
              "      <th>A11</th>\n",
              "      <td>0</td>\n",
              "    </tr>\n",
              "    <tr>\n",
              "      <th>A12</th>\n",
              "      <td>0</td>\n",
              "    </tr>\n",
              "    <tr>\n",
              "      <th>A13</th>\n",
              "      <td>0</td>\n",
              "    </tr>\n",
              "    <tr>\n",
              "      <th>A14</th>\n",
              "      <td>13</td>\n",
              "    </tr>\n",
              "    <tr>\n",
              "      <th>A15</th>\n",
              "      <td>0</td>\n",
              "    </tr>\n",
              "    <tr>\n",
              "      <th>class</th>\n",
              "      <td>0</td>\n",
              "    </tr>\n",
              "  </tbody>\n",
              "</table>\n",
              "</div><br><label><b>dtype:</b> int64</label>"
            ]
          },
          "metadata": {},
          "execution_count": 4
        }
      ],
      "source": [
        "df.info()\n",
        "missing_values=df.isnull().sum()#isnull returns a dataframe of boolean of same structure\n",
        "#sum(default axis=0: col) counts true for every col in that dataframe, as pandas is for dataframes\n",
        "missing_values"
      ]
    },
    {
      "cell_type": "markdown",
      "id": "SodCj4WRT4iF",
      "metadata": {
        "id": "SodCj4WRT4iF"
      },
      "source": [
        "# Remove Missing Values"
      ]
    },
    {
      "cell_type": "code",
      "execution_count": 5,
      "id": "d160503c",
      "metadata": {
        "colab": {
          "base_uri": "https://localhost:8080/"
        },
        "id": "d160503c",
        "outputId": "4b800581-c827-45a6-8525-b14607ced805"
      },
      "outputs": [
        {
          "output_type": "stream",
          "name": "stdout",
          "text": [
            "<class 'pandas.core.frame.DataFrame'>\n",
            "RangeIndex: 690 entries, 0 to 689\n",
            "Data columns (total 16 columns):\n",
            " #   Column  Non-Null Count  Dtype  \n",
            "---  ------  --------------  -----  \n",
            " 0   A1      690 non-null    object \n",
            " 1   A2      690 non-null    float64\n",
            " 2   A3      690 non-null    float64\n",
            " 3   A4      690 non-null    object \n",
            " 4   A5      690 non-null    object \n",
            " 5   A6      690 non-null    object \n",
            " 6   A7      690 non-null    object \n",
            " 7   A8      690 non-null    float64\n",
            " 8   A9      690 non-null    object \n",
            " 9   A10     690 non-null    object \n",
            " 10  A11     690 non-null    int64  \n",
            " 11  A12     690 non-null    object \n",
            " 12  A13     690 non-null    object \n",
            " 13  A14     690 non-null    float64\n",
            " 14  A15     690 non-null    int64  \n",
            " 15  class   690 non-null    object \n",
            "dtypes: float64(4), int64(2), object(10)\n",
            "memory usage: 86.4+ KB\n"
          ]
        },
        {
          "output_type": "stream",
          "name": "stderr",
          "text": [
            "/tmp/ipython-input-1741827194.py:5: FutureWarning: A value is trying to be set on a copy of a DataFrame or Series through chained assignment using an inplace method.\n",
            "The behavior will change in pandas 3.0. This inplace method will never work because the intermediate object on which we are setting values always behaves as a copy.\n",
            "\n",
            "For example, when doing 'df[col].method(value, inplace=True)', try using 'df.method({col: value}, inplace=True)' or df[col] = df[col].method(value) instead, to perform the operation inplace on the original object.\n",
            "\n",
            "\n",
            "  df[col].fillna(df[col].mode()[0], inplace=True)\n",
            "/tmp/ipython-input-1741827194.py:7: FutureWarning: A value is trying to be set on a copy of a DataFrame or Series through chained assignment using an inplace method.\n",
            "The behavior will change in pandas 3.0. This inplace method will never work because the intermediate object on which we are setting values always behaves as a copy.\n",
            "\n",
            "For example, when doing 'df[col].method(value, inplace=True)', try using 'df.method({col: value}, inplace=True)' or df[col] = df[col].method(value) instead, to perform the operation inplace on the original object.\n",
            "\n",
            "\n",
            "  df[col].fillna(df[col].mean(), inplace=True)\n"
          ]
        },
        {
          "output_type": "execute_result",
          "data": {
            "text/plain": [
              "(['A1', 'A4', 'A5', 'A6', 'A7', 'A9', 'A10', 'A12', 'A13', 'class'],\n",
              " ['A2', 'A3', 'A8', 'A11', 'A14', 'A15'],\n",
              " None)"
            ]
          },
          "metadata": {},
          "execution_count": 5
        }
      ],
      "source": [
        "categoricals=df.select_dtypes(include=['object', 'category']).columns.tolist()\n",
        "numerics=df.select_dtypes(exclude=['object', 'category']).columns.tolist()\n",
        "\n",
        "for col in categoricals:\n",
        "  df[col].fillna(df[col].mode()[0], inplace=True)\n",
        "for col in numerics:\n",
        "  df[col].fillna(df[col].mean(), inplace=True)\n",
        "\n",
        "categoricals, numerics, df.info()"
      ]
    },
    {
      "cell_type": "markdown",
      "source": [],
      "metadata": {
        "id": "MQIcW6NGKWqz"
      },
      "id": "MQIcW6NGKWqz"
    },
    {
      "cell_type": "markdown",
      "id": "CtZRUxFkT8nB",
      "metadata": {
        "id": "CtZRUxFkT8nB"
      },
      "source": [
        "# Perform Label Encoding on String Columns"
      ]
    },
    {
      "cell_type": "code",
      "execution_count": 6,
      "id": "c511437d",
      "metadata": {
        "colab": {
          "base_uri": "https://localhost:8080/"
        },
        "id": "c511437d",
        "outputId": "092bffba-963e-4478-ca50-e88ed877c492"
      },
      "outputs": [
        {
          "output_type": "stream",
          "name": "stdout",
          "text": [
            "   A1     A2     A3  A4  A5  A6  A7    A8  A9  A10  A11  A12  A13    A14  A15  \\\n",
            "0   1  30.83  0.000   1   0  12   7  1.25   1    1    1    0    0  202.0    0   \n",
            "1   0  58.67  4.460   1   0  10   3  3.04   1    1    6    0    0   43.0  560   \n",
            "2   0  24.50  0.500   1   0  10   3  1.50   1    0    0    0    0  280.0  824   \n",
            "3   1  27.83  1.540   1   0  12   7  3.75   1    1    5    1    0  100.0    3   \n",
            "4   1  20.17  5.625   1   0  12   7  1.71   1    0    0    0    2  120.0    0   \n",
            "\n",
            "   class  \n",
            "0      0  \n",
            "1      0  \n",
            "2      0  \n",
            "3      0  \n",
            "4      0  \n"
          ]
        }
      ],
      "source": [
        "for col in categoricals:\n",
        "  le=LabelEncoder()\n",
        "  df[col]=le.fit_transform(df[col])\n",
        "\n",
        "print(df.head())"
      ]
    },
    {
      "cell_type": "markdown",
      "id": "Bs_eCW6-UDOK",
      "metadata": {
        "id": "Bs_eCW6-UDOK"
      },
      "source": [
        "# Remove Outliers form Data"
      ]
    },
    {
      "cell_type": "code",
      "execution_count": 14,
      "id": "4be8fa6a",
      "metadata": {
        "colab": {
          "base_uri": "https://localhost:8080/"
        },
        "id": "4be8fa6a",
        "outputId": "748468af-b530-4217-e3ed-e0e7bbecbf84"
      },
      "outputs": [
        {
          "output_type": "stream",
          "name": "stdout",
          "text": [
            "<class 'pandas.core.frame.DataFrame'>\n",
            "Index: 424 entries, 0 to 687\n",
            "Data columns (total 16 columns):\n",
            " #   Column  Non-Null Count  Dtype  \n",
            "---  ------  --------------  -----  \n",
            " 0   A1      424 non-null    int64  \n",
            " 1   A2      424 non-null    float64\n",
            " 2   A3      424 non-null    float64\n",
            " 3   A4      424 non-null    int64  \n",
            " 4   A5      424 non-null    int64  \n",
            " 5   A6      424 non-null    int64  \n",
            " 6   A7      424 non-null    int64  \n",
            " 7   A8      424 non-null    float64\n",
            " 8   A9      424 non-null    int64  \n",
            " 9   A10     424 non-null    int64  \n",
            " 10  A11     424 non-null    int64  \n",
            " 11  A12     424 non-null    int64  \n",
            " 12  A13     424 non-null    int64  \n",
            " 13  A14     424 non-null    float64\n",
            " 14  A15     424 non-null    int64  \n",
            " 15  class   424 non-null    int64  \n",
            "dtypes: float64(4), int64(12)\n",
            "memory usage: 56.3 KB\n"
          ]
        }
      ],
      "source": [
        "def remove_outliers(df, columns):\n",
        "    df_clean = df.copy()#creates deep copy, dfclean=df will make ashallow copy\n",
        "\n",
        "    for col in columns:\n",
        "        if col in df_clean.columns:\n",
        "            Q1 = df_clean[col].quantile(0.25)\n",
        "            Q3 = df_clean[col].quantile(0.75)\n",
        "            IQR = Q3 - Q1\n",
        "\n",
        "            # Create mask for non-outliers\n",
        "            mask = (df_clean[col] >= Q1 - 1.5 * IQR) & (df_clean[col] <= Q3 + 1.5 * IQR)\n",
        "            df_clean = df_clean[mask]\n",
        "\n",
        "    return df_clean\n",
        "\n",
        "df_clean=remove_outliers(df, numerics)\n",
        "df_clean.info()"
      ]
    },
    {
      "cell_type": "markdown",
      "id": "_BcNa3spUIAs",
      "metadata": {
        "id": "_BcNa3spUIAs"
      },
      "source": [
        "# Feature Selection Through Correlation with Corr threshold= 0.2"
      ]
    },
    {
      "cell_type": "code",
      "execution_count": 20,
      "id": "194f85b2",
      "metadata": {
        "colab": {
          "base_uri": "https://localhost:8080/"
        },
        "id": "194f85b2",
        "outputId": "f750b852-cf6c-4020-a84d-7a953f3cc0d5"
      },
      "outputs": [
        {
          "output_type": "stream",
          "name": "stdout",
          "text": [
            "Absolute correlation with target:\n",
            "A9     0.640498\n",
            "A11    0.286858\n",
            "A8     0.280259\n",
            "A10    0.244286\n",
            "A5     0.136072\n",
            "A4     0.136072\n",
            "A3     0.125600\n",
            "A15    0.109210\n",
            "A6     0.082960\n",
            "A12    0.044600\n",
            "A14    0.031021\n",
            "A13    0.019682\n",
            "A2     0.016697\n",
            "A7     0.015504\n",
            "A1     0.001836\n",
            "Name: class, dtype: float64\n",
            "\n",
            "Selected features by correlation (threshold=0.05):\n",
            "['A9', 'A11', 'A8', 'A10', 'A5', 'A4', 'A3', 'A15', 'A6']\n",
            "\n",
            "Final features used for modeling: ['A9', 'A11', 'A8', 'A10', 'A5', 'A4', 'A3', 'A15', 'A6']\n"
          ]
        }
      ],
      "source": [
        "def feature_corr(df1, target_column, threshold=0.2):\n",
        "    corr_matrix = df1.corr()#matrix of nxn with correlations\n",
        "\n",
        "    target_corr = corr_matrix[target_column].abs().sort_values(ascending=False)\n",
        "    target_corr = target_corr[target_corr.index != target_column]\n",
        "\n",
        "    selected_features = target_corr[target_corr >= threshold].index.tolist()\n",
        "\n",
        "    return selected_features, target_corr\n",
        "\n",
        "selected_features, correlation_scores = feature_corr(df_clean, 'class', threshold=0.05)\n",
        "\n",
        "print(\"Absolute correlation with target:\")\n",
        "print(correlation_scores)\n",
        "\n",
        "print(f\"\\nSelected features by correlation (threshold=0.05):\")\n",
        "print(selected_features)\n",
        "\n",
        "print(f\"\\nFinal features used for modeling: {selected_features}\")\n"
      ]
    },
    {
      "cell_type": "markdown",
      "id": "FDaj1MTWUQyi",
      "metadata": {
        "id": "FDaj1MTWUQyi"
      },
      "source": [
        "# Split the data into X and y dataframes"
      ]
    },
    {
      "cell_type": "code",
      "execution_count": 21,
      "id": "1c408340",
      "metadata": {
        "id": "1c408340",
        "colab": {
          "base_uri": "https://localhost:8080/"
        },
        "outputId": "104d0334-65af-4633-8776-bf69777d908e"
      },
      "outputs": [
        {
          "output_type": "stream",
          "name": "stdout",
          "text": [
            "X shape: (424, 9)\n",
            "y shape: (424,)\n"
          ]
        }
      ],
      "source": [
        "df_clean_corr=df_clean[selected_features+['class']]\n",
        "feature_columns = [col for col in df_clean_corr.columns if col != 'class']\n",
        "#.columns=all column names\n",
        "#.index=the index names of series or dataframe(row names)\n",
        "\n",
        "X = df_clean_corr[feature_columns]\n",
        "y = df_clean_corr['class']\n",
        "\n",
        "print(\"X shape:\", X.shape)\n",
        "print(\"y shape:\", y.shape)"
      ]
    },
    {
      "cell_type": "markdown",
      "id": "282SqLyYUU9K",
      "metadata": {
        "id": "282SqLyYUU9K"
      },
      "source": [
        "# Split the data in Train-Test Parts"
      ]
    },
    {
      "cell_type": "code",
      "execution_count": 23,
      "id": "d8a95876",
      "metadata": {
        "colab": {
          "base_uri": "https://localhost:8080/"
        },
        "id": "d8a95876",
        "outputId": "206a2779-66c8-4e4f-eb13-64fdd2f15130"
      },
      "outputs": [
        {
          "output_type": "stream",
          "name": "stdout",
          "text": [
            "X_train shape: (318, 9)\n",
            "X_test shape: (106, 9)\n",
            "y_train shape: (318,)\n",
            "y_test shape: (106,)\n"
          ]
        }
      ],
      "source": [
        "X_train, X_test, y_train, y_test = train_test_split(\n",
        "    X, y,\n",
        "    test_size=0.25,\n",
        "    random_state=42,\n",
        "    stratify=y     #better class distribution\n",
        ")\n",
        "\n",
        "print(\"X_train shape:\", X_train.shape)\n",
        "print(\"X_test shape:\", X_test.shape)\n",
        "print(\"y_train shape:\", y_train.shape)\n",
        "print(\"y_test shape:\", y_test.shape)\n"
      ]
    },
    {
      "cell_type": "markdown",
      "id": "K20xbBvxUZbi",
      "metadata": {
        "id": "K20xbBvxUZbi"
      },
      "source": []
    },
    {
      "cell_type": "markdown",
      "id": "8TTWRY-bUauC",
      "metadata": {
        "id": "8TTWRY-bUauC"
      },
      "source": [
        "# Normalize the values using Standard Scaling"
      ]
    },
    {
      "cell_type": "code",
      "execution_count": null,
      "id": "00e9335e",
      "metadata": {
        "id": "00e9335e"
      },
      "outputs": [],
      "source": [
        "# Standardize numeric features (all features are numeric now after encoding)\n",
        "scaler = StandardScaler()\n",
        "X_train_scaled = scaler.fit_transform(X_train)\n",
        "X_test_scaled = scaler.transform(X_test)"
      ]
    },
    {
      "cell_type": "markdown",
      "id": "afm4LVqFUgNC",
      "metadata": {
        "id": "afm4LVqFUgNC"
      },
      "source": [
        "# Apply Following models over the dataset:\n",
        "\n",
        "\n",
        "1.   LogisticRegression\n",
        "2.   SVM\n",
        "3.   KNN\n",
        "4.   DecisionTrees\n",
        "5.   RandomForest\n",
        "\n"
      ]
    },
    {
      "cell_type": "code",
      "execution_count": null,
      "id": "1aa49fb4",
      "metadata": {
        "id": "1aa49fb4"
      },
      "outputs": [],
      "source": []
    },
    {
      "cell_type": "markdown",
      "id": "T4WORrPFUusy",
      "metadata": {
        "id": "T4WORrPFUusy"
      },
      "source": [
        "# Find F1 Score, Precision, Recall and Confusion Matrix for each model"
      ]
    },
    {
      "cell_type": "code",
      "execution_count": null,
      "id": "268879f4",
      "metadata": {
        "colab": {
          "base_uri": "https://localhost:8080/"
        },
        "id": "268879f4",
        "outputId": "d22d6580-adb3-4b68-e891-b93f933dec74"
      },
      "outputs": [
        {
          "name": "stdout",
          "output_type": "stream",
          "text": [
            "\n",
            "Training LogisticRegression\n",
            "LogisticRegression -- Accuracy: 0.8737, Precision: 0.9206, Recall: 0.8923, F1: 0.9062\n",
            "Classification report:\n",
            "               precision    recall  f1-score   support\n",
            "\n",
            "           0       0.78      0.83      0.81        30\n",
            "           1       0.92      0.89      0.91        65\n",
            "\n",
            "    accuracy                           0.87        95\n",
            "   macro avg       0.85      0.86      0.86        95\n",
            "weighted avg       0.88      0.87      0.87        95\n",
            "\n",
            "\n",
            "Training SVM\n",
            "SVM -- Accuracy: 0.8316, Precision: 0.8657, Recall: 0.8923, F1: 0.8788\n",
            "Classification report:\n",
            "               precision    recall  f1-score   support\n",
            "\n",
            "           0       0.75      0.70      0.72        30\n",
            "           1       0.87      0.89      0.88        65\n",
            "\n",
            "    accuracy                           0.83        95\n",
            "   macro avg       0.81      0.80      0.80        95\n",
            "weighted avg       0.83      0.83      0.83        95\n",
            "\n",
            "\n",
            "Training KNN\n",
            "KNN -- Accuracy: 0.8421, Precision: 0.8906, Recall: 0.8769, F1: 0.8837\n",
            "Classification report:\n",
            "               precision    recall  f1-score   support\n",
            "\n",
            "           0       0.74      0.77      0.75        30\n",
            "           1       0.89      0.88      0.88        65\n",
            "\n",
            "    accuracy                           0.84        95\n",
            "   macro avg       0.82      0.82      0.82        95\n",
            "weighted avg       0.84      0.84      0.84        95\n",
            "\n",
            "\n",
            "Training DecisionTree\n",
            "DecisionTree -- Accuracy: 0.7579, Precision: 0.8182, Recall: 0.8308, F1: 0.8244\n",
            "Classification report:\n",
            "               precision    recall  f1-score   support\n",
            "\n",
            "           0       0.62      0.60      0.61        30\n",
            "           1       0.82      0.83      0.82        65\n",
            "\n",
            "    accuracy                           0.76        95\n",
            "   macro avg       0.72      0.72      0.72        95\n",
            "weighted avg       0.76      0.76      0.76        95\n",
            "\n",
            "\n",
            "Training RandomForest\n",
            "RandomForest -- Accuracy: 0.8737, Precision: 0.9344, Recall: 0.8769, F1: 0.9048\n",
            "Classification report:\n",
            "               precision    recall  f1-score   support\n",
            "\n",
            "           0       0.76      0.87      0.81        30\n",
            "           1       0.93      0.88      0.90        65\n",
            "\n",
            "    accuracy                           0.87        95\n",
            "   macro avg       0.85      0.87      0.86        95\n",
            "weighted avg       0.88      0.87      0.88        95\n",
            "\n"
          ]
        }
      ],
      "source": [
        "\n",
        "\n",
        "#%%"
      ]
    },
    {
      "cell_type": "markdown",
      "id": "HPeuWAwQU3ia",
      "metadata": {
        "id": "HPeuWAwQU3ia"
      },
      "source": [
        "# Make a Dataframe containing all the results"
      ]
    },
    {
      "cell_type": "code",
      "execution_count": null,
      "id": "AG2F3a6EOrDm",
      "metadata": {
        "colab": {
          "base_uri": "https://localhost:8080/"
        },
        "id": "AG2F3a6EOrDm",
        "outputId": "55ee8037-32f3-4cb6-8a23-db2c69cc0e92"
      },
      "outputs": [
        {
          "name": "stdout",
          "output_type": "stream",
          "text": [
            "\n",
            "Comparison table:\n",
            "                 model  accuracy  precision    recall        f1\n",
            "0  LogisticRegression  0.873684   0.920635  0.892308  0.906250\n",
            "1        RandomForest  0.873684   0.934426  0.876923  0.904762\n",
            "2                 KNN  0.842105   0.890625  0.876923  0.883721\n",
            "3                 SVM  0.831579   0.865672  0.892308  0.878788\n",
            "4        DecisionTree  0.757895   0.818182  0.830769  0.824427\n"
          ]
        }
      ],
      "source": []
    },
    {
      "cell_type": "markdown",
      "id": "UBomcACPU99C",
      "metadata": {
        "id": "UBomcACPU99C"
      },
      "source": [
        "# Make a Comparison Graph b/w all the models"
      ]
    },
    {
      "cell_type": "code",
      "execution_count": null,
      "id": "8qQSrOHOO12Z",
      "metadata": {
        "colab": {
          "base_uri": "https://localhost:8080/",
          "height": 507
        },
        "id": "8qQSrOHOO12Z",
        "outputId": "e5931639-54ec-4d98-b410-de676cf830af"
      },
      "outputs": [
        {
          "data": {
            "image/png": "[encoded data removed]",
            "text/plain": [
              "<Figure size 800x500 with 1 Axes>"
            ]
          },
          "metadata": {},
          "output_type": "display_data"
        }
      ],
      "source": []
    },
    {
      "cell_type": "markdown",
      "id": "jpri96AIVDZC",
      "metadata": {
        "id": "jpri96AIVDZC"
      },
      "source": [
        "# Print Confusion matrix here"
      ]
    },
    {
      "cell_type": "code",
      "execution_count": null,
      "id": "MQmZYrkUO72B",
      "metadata": {
        "colab": {
          "base_uri": "https://localhost:8080/"
        },
        "id": "MQmZYrkUO72B",
        "outputId": "92f3f633-3e5c-4687-97e4-c363509e9b93"
      },
      "outputs": [
        {
          "name": "stdout",
          "output_type": "stream",
          "text": [
            "Confusion matrix for LogisticRegression:\n",
            "[[25  5]\n",
            " [ 7 58]]\n",
            "Confusion matrix for SVM:\n",
            "[[21  9]\n",
            " [ 7 58]]\n",
            "Confusion matrix for KNN:\n",
            "[[23  7]\n",
            " [ 8 57]]\n",
            "Confusion matrix for DecisionTree:\n",
            "[[18 12]\n",
            " [11 54]]\n",
            "Confusion matrix for RandomForest:\n",
            "[[26  4]\n",
            " [ 8 57]]\n"
          ]
        }
      ],
      "source": []
    },
    {
      "cell_type": "code",
      "execution_count": null,
      "id": "Qg_5Kq07O-qW",
      "metadata": {
        "id": "Qg_5Kq07O-qW"
      },
      "outputs": [],
      "source": []
    }
  ],
  "metadata": {
    "colab": {
      "provenance": [],
      "collapsed_sections": [
        "99e9e4a9",
        "YGLVq_jeTtNj",
        "IbxwaT3WTwni",
        "SodCj4WRT4iF",
        "CtZRUxFkT8nB",
        "Bs_eCW6-UDOK",
        "_BcNa3spUIAs",
        "FDaj1MTWUQyi",
        "282SqLyYUU9K"
      ],
      "include_colab_link": true
    },
    "kernelspec": {
      "display_name": "Python 3 (ipykernel)",
      "language": "python",
      "name": "python3"
    },
    "language_info": {
      "codemirror_mode": {
        "name": "ipython",
        "version": 3
      },
      "file_extension": ".py",
      "mimetype": "text/x-python",
      "name": "python",
      "nbconvert_exporter": "python",
      "pygments_lexer": "ipython3",
      "version": "3.9.13"
    }
  },
  "nbformat": 4,
  "nbformat_minor": 5
}