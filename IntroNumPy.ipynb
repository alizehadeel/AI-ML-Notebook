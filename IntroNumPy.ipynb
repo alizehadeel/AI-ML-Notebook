{
 "cells": [
  {
   "cell_type": "code",
   "execution_count": 3,
   "id": "325594ac-beea-4896-bf64-f1e1b4949819",
   "metadata": {},
   "outputs": [],
   "source": [
    "import numpy as np"
   ]
  },
  {
   "cell_type": "markdown",
   "id": "27984af3-ac1c-4d97-a337-093646d0767b",
   "metadata": {
    "jp-MarkdownHeadingCollapsed": true
   },
   "source": [
    "## Datatypes and attributes"
   ]
  },
  {
   "cell_type": "code",
   "execution_count": 4,
   "id": "60167182-78dd-450c-8099-2cd7175b3c58",
   "metadata": {},
   "outputs": [
    {
     "data": {
      "text/plain": [
       "array([1, 2, 3])"
      ]
     },
     "execution_count": 4,
     "metadata": {},
     "output_type": "execute_result"
    }
   ],
   "source": [
    "# Numpy main datatype in ndarray-n dimensional array\n",
    "a1= np.array([1,2,3])\n",
    "a1"
   ]
  },
  {
   "cell_type": "code",
   "execution_count": 5,
   "id": "5666a7cc-4e5e-4caa-8183-0f5fe99ff817",
   "metadata": {},
   "outputs": [
    {
     "data": {
      "text/plain": [
       "numpy.ndarray"
      ]
     },
     "execution_count": 5,
     "metadata": {},
     "output_type": "execute_result"
    }
   ],
   "source": [
    "type(a1)"
   ]
  },
  {
   "cell_type": "code",
   "execution_count": 6,
   "id": "cd510194-e3c4-4857-b137-2b3f42353417",
   "metadata": {},
   "outputs": [],
   "source": [
    "a2 = np.array([[2,3,4], \n",
    "             [4,6,3.3]])\n",
    "a3 = np.array([[[1,2,3],\n",
    "              [4,5,6], \n",
    "              [7,8,9]],\n",
    "              [[10, 11, 12], \n",
    "               [13, 14, 15], \n",
    "               [16, 17, 18]]])"
   ]
  },
  {
   "cell_type": "code",
   "execution_count": 7,
   "id": "43998c4d-e407-4374-9fec-924184b8ff21",
   "metadata": {},
   "outputs": [
    {
     "data": {
      "text/plain": [
       "array([[2. , 3. , 4. ],\n",
       "       [4. , 6. , 3.3]])"
      ]
     },
     "execution_count": 7,
     "metadata": {},
     "output_type": "execute_result"
    }
   ],
   "source": [
    "a2"
   ]
  },
  {
   "cell_type": "code",
   "execution_count": 8,
   "id": "d34902bd-40c9-4cad-9fbf-d6bd6c243742",
   "metadata": {},
   "outputs": [
    {
     "data": {
      "text/plain": [
       "array([[[ 1,  2,  3],\n",
       "        [ 4,  5,  6],\n",
       "        [ 7,  8,  9]],\n",
       "\n",
       "       [[10, 11, 12],\n",
       "        [13, 14, 15],\n",
       "        [16, 17, 18]]])"
      ]
     },
     "execution_count": 8,
     "metadata": {},
     "output_type": "execute_result"
    }
   ],
   "source": [
    "a3"
   ]
  },
  {
   "cell_type": "code",
   "execution_count": 9,
   "id": "b35becf8-7318-41f2-a7a0-c599d156abf6",
   "metadata": {},
   "outputs": [
    {
     "data": {
      "text/plain": [
       "(3,)"
      ]
     },
     "execution_count": 9,
     "metadata": {},
     "output_type": "execute_result"
    }
   ],
   "source": [
    "a1.shape"
   ]
  },
  {
   "cell_type": "code",
   "execution_count": 10,
   "id": "39e660ce-e503-4548-9668-8c54d4813e52",
   "metadata": {},
   "outputs": [
    {
     "data": {
      "text/plain": [
       "(2, 3)"
      ]
     },
     "execution_count": 10,
     "metadata": {},
     "output_type": "execute_result"
    }
   ],
   "source": [
    "a2.shape"
   ]
  },
  {
   "cell_type": "code",
   "execution_count": 11,
   "id": "005164be-d256-4ce7-8f73-43bd2e85b860",
   "metadata": {},
   "outputs": [
    {
     "data": {
      "text/plain": [
       "(2, 3, 3)"
      ]
     },
     "execution_count": 11,
     "metadata": {},
     "output_type": "execute_result"
    }
   ],
   "source": [
    "a3.shape"
   ]
  },
  {
   "cell_type": "code",
   "execution_count": 12,
   "id": "570f1d6b-34bd-4cf8-bef6-b1e8cb7bf912",
   "metadata": {},
   "outputs": [
    {
     "data": {
      "text/plain": [
       "(1, 2, 3)"
      ]
     },
     "execution_count": 12,
     "metadata": {},
     "output_type": "execute_result"
    }
   ],
   "source": [
    "a1.ndim, a2.ndim, a3.ndim #number of dimensions, comma seperated"
   ]
  },
  {
   "cell_type": "code",
   "execution_count": 13,
   "id": "05edd5ca-857f-415d-8a56-daf3981bf006",
   "metadata": {},
   "outputs": [
    {
     "data": {
      "text/plain": [
       "(dtype('int64'), dtype('float64'), dtype('int64'))"
      ]
     },
     "execution_count": 13,
     "metadata": {},
     "output_type": "execute_result"
    }
   ],
   "source": [
    "a1.dtype, a2.dtype, a3.dtype"
   ]
  },
  {
   "cell_type": "code",
   "execution_count": 14,
   "id": "2b097952-3211-4f1c-9fa7-b47c66c44cbe",
   "metadata": {},
   "outputs": [
    {
     "data": {
      "text/plain": [
       "(3, 6, 18)"
      ]
     },
     "execution_count": 14,
     "metadata": {},
     "output_type": "execute_result"
    }
   ],
   "source": [
    "a1.size, a2.size, a3.size"
   ]
  },
  {
   "cell_type": "code",
   "execution_count": 15,
   "id": "faf138ca-fc83-4d8d-b053-f216b0fb70ae",
   "metadata": {},
   "outputs": [
    {
     "data": {
      "text/plain": [
       "(numpy.ndarray, numpy.ndarray, numpy.ndarray)"
      ]
     },
     "execution_count": 15,
     "metadata": {},
     "output_type": "execute_result"
    }
   ],
   "source": [
    "type(a1), type(a2), type(a3)\n"
   ]
  },
  {
   "cell_type": "code",
   "execution_count": 16,
   "id": "9d31c703-38c3-470d-90e6-785247d9d411",
   "metadata": {},
   "outputs": [],
   "source": [
    "# create a data frame from numpy array\n",
    "import pandas as pd\n",
    "df= pd.DataFrame(a2)"
   ]
  },
  {
   "cell_type": "code",
   "execution_count": 17,
   "id": "f5662828-4098-4b70-acd0-2a89e179437b",
   "metadata": {},
   "outputs": [
    {
     "data": {
      "text/html": [
       "<div>\n",
       "<style scoped>\n",
       "    .dataframe tbody tr th:only-of-type {\n",
       "        vertical-align: middle;\n",
       "    }\n",
       "\n",
       "    .dataframe tbody tr th {\n",
       "        vertical-align: top;\n",
       "    }\n",
       "\n",
       "    .dataframe thead th {\n",
       "        text-align: right;\n",
       "    }\n",
       "</style>\n",
       "<table border=\"1\" class=\"dataframe\">\n",
       "  <thead>\n",
       "    <tr style=\"text-align: right;\">\n",
       "      <th></th>\n",
       "      <th>0</th>\n",
       "      <th>1</th>\n",
       "      <th>2</th>\n",
       "    </tr>\n",
       "  </thead>\n",
       "  <tbody>\n",
       "    <tr>\n",
       "      <th>0</th>\n",
       "      <td>2.0</td>\n",
       "      <td>3.0</td>\n",
       "      <td>4.0</td>\n",
       "    </tr>\n",
       "    <tr>\n",
       "      <th>1</th>\n",
       "      <td>4.0</td>\n",
       "      <td>6.0</td>\n",
       "      <td>3.3</td>\n",
       "    </tr>\n",
       "  </tbody>\n",
       "</table>\n",
       "</div>"
      ],
      "text/plain": [
       "     0    1    2\n",
       "0  2.0  3.0  4.0\n",
       "1  4.0  6.0  3.3"
      ]
     },
     "execution_count": 17,
     "metadata": {},
     "output_type": "execute_result"
    }
   ],
   "source": [
    "df"
   ]
  },
  {
   "cell_type": "markdown",
   "id": "f3ffcead-eb6b-4809-a24d-29b46b7258ee",
   "metadata": {
    "jp-MarkdownHeadingCollapsed": true
   },
   "source": [
    "## How to create numpy arrays"
   ]
  },
  {
   "cell_type": "code",
   "execution_count": 18,
   "id": "e452012d-8d20-4f40-9b17-938c71adbd54",
   "metadata": {},
   "outputs": [
    {
     "data": {
      "text/plain": [
       "array([1, 2, 3])"
      ]
     },
     "execution_count": 18,
     "metadata": {},
     "output_type": "execute_result"
    }
   ],
   "source": [
    "sample_array = np.array([1,2,3])\n",
    "sample_array"
   ]
  },
  {
   "cell_type": "code",
   "execution_count": 19,
   "id": "44f46c74-599b-4511-aceb-e5d6d64c2ec6",
   "metadata": {},
   "outputs": [],
   "source": [
    "ones=np.ones((2,3))#shift and tab inside the () opens the signature of that function"
   ]
  },
  {
   "cell_type": "code",
   "execution_count": 20,
   "id": "47ee51ca-5d4c-4185-a8f7-bc05955c655f",
   "metadata": {},
   "outputs": [
    {
     "data": {
      "text/plain": [
       "array([[1., 1., 1.],\n",
       "       [1., 1., 1.]])"
      ]
     },
     "execution_count": 20,
     "metadata": {},
     "output_type": "execute_result"
    }
   ],
   "source": [
    "ones"
   ]
  },
  {
   "cell_type": "code",
   "execution_count": 21,
   "id": "8739cd59-2e4a-4aa6-ba70-6b2ed278e2b4",
   "metadata": {},
   "outputs": [
    {
     "data": {
      "text/plain": [
       "dtype('float64')"
      ]
     },
     "execution_count": 21,
     "metadata": {},
     "output_type": "execute_result"
    }
   ],
   "source": [
    "ones.dtype"
   ]
  },
  {
   "cell_type": "code",
   "execution_count": 22,
   "id": "ed59c3b4-13fa-4e20-898b-403456a6a967",
   "metadata": {},
   "outputs": [
    {
     "data": {
      "text/plain": [
       "numpy.ndarray"
      ]
     },
     "execution_count": 22,
     "metadata": {},
     "output_type": "execute_result"
    }
   ],
   "source": [
    "type(ones)"
   ]
  },
  {
   "cell_type": "code",
   "execution_count": 23,
   "id": "df6c993a-794f-4265-b634-955acb80df58",
   "metadata": {},
   "outputs": [
    {
     "data": {
      "text/plain": [
       "array([[0., 0., 0.],\n",
       "       [0., 0., 0.]])"
      ]
     },
     "execution_count": 23,
     "metadata": {},
     "output_type": "execute_result"
    }
   ],
   "source": [
    "zeros=np.zeros((2,3))\n",
    "zeros"
   ]
  },
  {
   "cell_type": "code",
   "execution_count": 24,
   "id": "b54a5929-d223-47ba-bcb7-6efb32c2e3a6",
   "metadata": {},
   "outputs": [
    {
     "data": {
      "text/plain": [
       "array([0, 2, 4, 6, 8])"
      ]
     },
     "execution_count": 24,
     "metadata": {},
     "output_type": "execute_result"
    }
   ],
   "source": [
    "range_array= np.arange(0, 10, 2)\n",
    "range_array"
   ]
  },
  {
   "cell_type": "code",
   "execution_count": 25,
   "id": "1c62e813-4d3c-42d9-a04f-20f4bd334c7a",
   "metadata": {},
   "outputs": [
    {
     "data": {
      "text/plain": [
       "array([[9, 8, 0, 2, 8],\n",
       "       [6, 5, 7, 7, 0],\n",
       "       [9, 9, 9, 9, 8]], dtype=int32)"
      ]
     },
     "execution_count": 25,
     "metadata": {},
     "output_type": "execute_result"
    }
   ],
   "source": [
    "random_array=np.random.randint(0, 10, (3,5))\n",
    "random_array"
   ]
  },
  {
   "cell_type": "code",
   "execution_count": 26,
   "id": "f84f8f0c-72d3-4f1f-b6ff-ca178838d700",
   "metadata": {},
   "outputs": [
    {
     "data": {
      "text/plain": [
       "array([[0.08562932, 0.15771102, 0.21909108],\n",
       "       [0.47469748, 0.52172949, 0.78823199],\n",
       "       [0.82877791, 0.93560797, 0.56623176],\n",
       "       [0.26233941, 0.3378003 , 0.63352624],\n",
       "       [0.9242527 , 0.65682146, 0.06716067]])"
      ]
     },
     "execution_count": 26,
     "metadata": {},
     "output_type": "execute_result"
    }
   ],
   "source": [
    "random_array2=np.random.random((5,3))\n",
    "random_array2"
   ]
  },
  {
   "cell_type": "code",
   "execution_count": 27,
   "id": "30269ffe-d770-4863-a640-97b0aff9a825",
   "metadata": {},
   "outputs": [
    {
     "data": {
      "text/plain": [
       "array([[0.58197895, 0.10751625, 0.45050681],\n",
       "       [0.98339908, 0.73886133, 0.00572413],\n",
       "       [0.76476144, 0.9239585 , 0.80600983],\n",
       "       [0.25095828, 0.27510588, 0.49589388],\n",
       "       [0.49258579, 0.40941473, 0.10687624]])"
      ]
     },
     "execution_count": 27,
     "metadata": {},
     "output_type": "execute_result"
    }
   ],
   "source": [
    "random_array3 = np.random.rand(5,3)\n",
    "random_array3"
   ]
  },
  {
   "cell_type": "code",
   "execution_count": 40,
   "id": "bc55459b-d59c-46f7-9385-0a20ffc81cb7",
   "metadata": {},
   "outputs": [
    {
     "data": {
      "text/plain": [
       "array([[7, 5, 1],\n",
       "       [8, 7, 8],\n",
       "       [2, 9, 7],\n",
       "       [7, 7, 9],\n",
       "       [8, 4, 2]], dtype=int32)"
      ]
     },
     "execution_count": 40,
     "metadata": {},
     "output_type": "execute_result"
    }
   ],
   "source": [
    "# pseudo random numbers\n",
    "np.random.seed(seed=4)#this gives random numbers alligned with the seeds\n",
    "random_array4= np.random.randint(0, 10, (5,3))\n",
    "random_array4"
   ]
  },
  {
   "cell_type": "code",
   "execution_count": 45,
   "id": "d81161ab-f6d5-49f0-abbd-4a6bc9ecabd2",
   "metadata": {},
   "outputs": [
    {
     "data": {
      "text/plain": [
       "array([[0.07630829, 0.77991879, 0.43840923],\n",
       "       [0.72346518, 0.97798951, 0.53849587],\n",
       "       [0.50112046, 0.07205113, 0.26843898],\n",
       "       [0.4998825 , 0.67923   , 0.80373904],\n",
       "       [0.38094113, 0.06593635, 0.2881456 ]])"
      ]
     },
     "execution_count": 45,
     "metadata": {},
     "output_type": "execute_result"
    }
   ],
   "source": [
    "np.random.seed(7)#if you see a seed, then always allign with the seed\n",
    "random_array5=np.random.random((5,3))\n",
    "random_array5"
   ]
  },
  {
   "cell_type": "markdown",
   "id": "24bc8bfb-06d7-483d-85ac-3d8589aaf3ef",
   "metadata": {
    "jp-MarkdownHeadingCollapsed": true
   },
   "source": [
    "## Viewing Arrays and Matrices"
   ]
  },
  {
   "cell_type": "code",
   "execution_count": 46,
   "id": "140127a9-ad29-42f1-a51b-42db9875134b",
   "metadata": {},
   "outputs": [
    {
     "data": {
      "text/plain": [
       "array([[7, 5, 1],\n",
       "       [8, 7, 8],\n",
       "       [2, 9, 7],\n",
       "       [7, 7, 9],\n",
       "       [8, 4, 2]], dtype=int32)"
      ]
     },
     "execution_count": 46,
     "metadata": {},
     "output_type": "execute_result"
    }
   ],
   "source": [
    "random_array4"
   ]
  },
  {
   "cell_type": "code",
   "execution_count": 47,
   "id": "8405c286-d987-4152-b4e5-5d7399c45796",
   "metadata": {},
   "outputs": [
    {
     "data": {
      "text/plain": [
       "array([1, 2, 4, 5, 7, 8, 9], dtype=int32)"
      ]
     },
     "execution_count": 47,
     "metadata": {},
     "output_type": "execute_result"
    }
   ],
   "source": [
    "np.unique(random_array4)"
   ]
  },
  {
   "cell_type": "code",
   "execution_count": 49,
   "id": "8ae24b6c-a76d-4aaa-89f1-8283af2c0f9d",
   "metadata": {},
   "outputs": [
    {
     "data": {
      "text/plain": [
       "array([1, 2, 3])"
      ]
     },
     "execution_count": 49,
     "metadata": {},
     "output_type": "execute_result"
    }
   ],
   "source": [
    "a1"
   ]
  },
  {
   "cell_type": "code",
   "execution_count": 50,
   "id": "abf66049-3eab-475f-bc88-4c2031d00635",
   "metadata": {},
   "outputs": [
    {
     "data": {
      "text/plain": [
       "array([[2. , 3. , 4. ],\n",
       "       [4. , 6. , 3.3]])"
      ]
     },
     "execution_count": 50,
     "metadata": {},
     "output_type": "execute_result"
    }
   ],
   "source": [
    "a2"
   ]
  },
  {
   "cell_type": "code",
   "execution_count": 51,
   "id": "efa0e0af-8fbc-444e-ab35-a0dfa14eabed",
   "metadata": {},
   "outputs": [
    {
     "data": {
      "text/plain": [
       "array([[[ 1,  2,  3],\n",
       "        [ 4,  5,  6],\n",
       "        [ 7,  8,  9]],\n",
       "\n",
       "       [[10, 11, 12],\n",
       "        [13, 14, 15],\n",
       "        [16, 17, 18]]])"
      ]
     },
     "execution_count": 51,
     "metadata": {},
     "output_type": "execute_result"
    }
   ],
   "source": [
    "a3\n"
   ]
  },
  {
   "cell_type": "code",
   "execution_count": 53,
   "id": "af9e7cd9-6723-4a4c-b6df-b95ca5153d1a",
   "metadata": {},
   "outputs": [
    {
     "data": {
      "text/plain": [
       "array([2., 3., 4.])"
      ]
     },
     "execution_count": 53,
     "metadata": {},
     "output_type": "execute_result"
    }
   ],
   "source": [
    "a2[0]"
   ]
  },
  {
   "cell_type": "code",
   "execution_count": 54,
   "id": "c262f4e7-4ea7-455d-98e1-e8f95dc7421f",
   "metadata": {},
   "outputs": [
    {
     "data": {
      "text/plain": [
       "(2, 3, 3)"
      ]
     },
     "execution_count": 54,
     "metadata": {},
     "output_type": "execute_result"
    }
   ],
   "source": [
    "a3.shape"
   ]
  },
  {
   "cell_type": "code",
   "execution_count": 55,
   "id": "570a3db9-e0e3-49f0-8fe1-b12a60a0e4a0",
   "metadata": {},
   "outputs": [
    {
     "data": {
      "text/plain": [
       "array([[1, 2, 3],\n",
       "       [4, 5, 6],\n",
       "       [7, 8, 9]])"
      ]
     },
     "execution_count": 55,
     "metadata": {},
     "output_type": "execute_result"
    }
   ],
   "source": [
    "a3[0]"
   ]
  },
  {
   "cell_type": "code",
   "execution_count": 56,
   "id": "ad628415-9386-44ad-af32-47ebd18dbdf3",
   "metadata": {},
   "outputs": [
    {
     "data": {
      "text/plain": [
       "array([4. , 6. , 3.3])"
      ]
     },
     "execution_count": 56,
     "metadata": {},
     "output_type": "execute_result"
    }
   ],
   "source": [
    "a2[1]"
   ]
  },
  {
   "cell_type": "code",
   "execution_count": 59,
   "id": "a7938604-58f0-4bb0-84e4-bff235270441",
   "metadata": {},
   "outputs": [
    {
     "data": {
      "text/plain": [
       "array([[[1, 2, 3],\n",
       "        [4, 5, 6]]])"
      ]
     },
     "execution_count": 59,
     "metadata": {},
     "output_type": "execute_result"
    }
   ],
   "source": [
    "a3[:1, :2, :3]"
   ]
  },
  {
   "cell_type": "code",
   "execution_count": 66,
   "id": "4d478495-56a9-4b8b-8536-c698e9b00956",
   "metadata": {},
   "outputs": [],
   "source": [
    "a4 = np.random.randint(0, 15, (2,3,4,5))#count backwards for visuals, 5 to columns, then 4 to inner rows"
   ]
  },
  {
   "cell_type": "code",
   "execution_count": 62,
   "id": "5793a081-8c81-47e2-8938-31aa419428e5",
   "metadata": {},
   "outputs": [
    {
     "data": {
      "text/plain": [
       "(array([[[[ 3, 12, 12,  5,  8],\n",
       "          [ 8,  7,  5,  0, 11],\n",
       "          [13,  0,  2,  8,  9],\n",
       "          [14,  6,  4, 14,  9]],\n",
       " \n",
       "         [[ 7,  3,  3,  8,  3],\n",
       "          [ 0,  1,  0,  0,  6],\n",
       "          [13, 12, 12, 12,  7],\n",
       "          [ 7, 10,  9,  3,  0]],\n",
       " \n",
       "         [[13,  7,  7, 12,  7],\n",
       "          [ 0,  5,  4,  3,  1],\n",
       "          [ 3, 11, 11,  1,  3],\n",
       "          [11,  4,  3,  1, 11]]],\n",
       " \n",
       " \n",
       "        [[[14,  9,  5,  9, 13],\n",
       "          [ 1,  2,  3,  2,  2],\n",
       "          [ 5,  7,  3, 11, 10],\n",
       "          [ 0, 12, 13, 11,  9]],\n",
       " \n",
       "         [[ 9, 12,  3, 14, 14],\n",
       "          [12,  4,  5, 12, 11],\n",
       "          [ 3,  0,  4, 11,  8],\n",
       "          [10, 10,  6, 11,  7]],\n",
       " \n",
       "         [[13,  2,  7,  3, 13],\n",
       "          [12, 12, 13,  8,  6],\n",
       "          [ 6,  5,  6,  5, 12],\n",
       "          [11,  7,  1, 10,  5]]]], dtype=int32),\n",
       " (2, 3, 4, 5),\n",
       " 4)"
      ]
     },
     "execution_count": 62,
     "metadata": {},
     "output_type": "execute_result"
    }
   ],
   "source": [
    "a4, a4.shape, a4.ndim"
   ]
  },
  {
   "cell_type": "code",
   "execution_count": 65,
   "id": "370e1daa-555c-43f8-9149-91f6c070f51b",
   "metadata": {},
   "outputs": [
    {
     "data": {
      "text/plain": [
       "array([[[[14,  9,  5,  9, 13]]]], dtype=int32)"
      ]
     },
     "execution_count": 65,
     "metadata": {},
     "output_type": "execute_result"
    }
   ],
   "source": [
    "a4[1:2, :1, :1, :5]"
   ]
  },
  {
   "cell_type": "markdown",
   "id": "c216cedb-0633-45b0-b513-b7c1676171d1",
   "metadata": {
    "jp-MarkdownHeadingCollapsed": true
   },
   "source": [
    "## Manipulating and comparing arrays "
   ]
  },
  {
   "cell_type": "markdown",
   "id": "2e9f6c5d-5d1f-454c-bbe5-bd8c1660d587",
   "metadata": {
    "jp-MarkdownHeadingCollapsed": true
   },
   "source": [
    "### Arithematic "
   ]
  },
  {
   "cell_type": "code",
   "execution_count": 68,
   "id": "0c853c66-43a7-4cf8-9de2-647a94267a04",
   "metadata": {},
   "outputs": [
    {
     "data": {
      "text/plain": [
       "array([1., 1., 1.])"
      ]
     },
     "execution_count": 68,
     "metadata": {},
     "output_type": "execute_result"
    }
   ],
   "source": [
    "ones=np.ones(3)\n",
    "ones\n"
   ]
  },
  {
   "cell_type": "code",
   "execution_count": 69,
   "id": "b95ee6f5-0f45-4587-8e91-328e7ca98fc1",
   "metadata": {},
   "outputs": [
    {
     "data": {
      "text/plain": [
       "array([1, 2, 3])"
      ]
     },
     "execution_count": 69,
     "metadata": {},
     "output_type": "execute_result"
    }
   ],
   "source": [
    "a1"
   ]
  },
  {
   "cell_type": "code",
   "execution_count": 70,
   "id": "277cfea3-f83c-4648-8690-9c49a4ceac39",
   "metadata": {},
   "outputs": [
    {
     "data": {
      "text/plain": [
       "array([2., 3., 4.])"
      ]
     },
     "execution_count": 70,
     "metadata": {},
     "output_type": "execute_result"
    }
   ],
   "source": [
    "a1+ones"
   ]
  },
  {
   "cell_type": "code",
   "execution_count": 71,
   "id": "a7aae99a-0011-4f8e-a49f-447d0a58533a",
   "metadata": {},
   "outputs": [
    {
     "data": {
      "text/plain": [
       "array([0., 1., 2.])"
      ]
     },
     "execution_count": 71,
     "metadata": {},
     "output_type": "execute_result"
    }
   ],
   "source": [
    "a1-ones"
   ]
  },
  {
   "cell_type": "code",
   "execution_count": 72,
   "id": "6558ea42-7c27-433e-a589-dd135b811ead",
   "metadata": {},
   "outputs": [
    {
     "data": {
      "text/plain": [
       "array([1., 2., 3.])"
      ]
     },
     "execution_count": 72,
     "metadata": {},
     "output_type": "execute_result"
    }
   ],
   "source": [
    "a1*ones"
   ]
  },
  {
   "cell_type": "code",
   "execution_count": 73,
   "id": "3cd93194-c58c-4ffd-88f5-8a496bf2f006",
   "metadata": {},
   "outputs": [
    {
     "data": {
      "text/plain": [
       "array([[2. , 3. , 4. ],\n",
       "       [4. , 6. , 3.3]])"
      ]
     },
     "execution_count": 73,
     "metadata": {},
     "output_type": "execute_result"
    }
   ],
   "source": [
    "a2"
   ]
  },
  {
   "cell_type": "code",
   "execution_count": 74,
   "id": "e32521b2-de8d-474e-bfaa-da2db5d9e11e",
   "metadata": {},
   "outputs": [
    {
     "data": {
      "text/plain": [
       "array([[ 2. ,  6. , 12. ],\n",
       "       [ 4. , 12. ,  9.9]])"
      ]
     },
     "execution_count": 74,
     "metadata": {},
     "output_type": "execute_result"
    }
   ],
   "source": [
    "a1*a2"
   ]
  },
  {
   "cell_type": "code",
   "execution_count": 75,
   "id": "4b394bb6-be7d-4ec3-8b62-e29e09301f1a",
   "metadata": {},
   "outputs": [
    {
     "data": {
      "text/plain": [
       "array([1, 2, 3])"
      ]
     },
     "execution_count": 75,
     "metadata": {},
     "output_type": "execute_result"
    }
   ],
   "source": [
    "a1\n"
   ]
  },
  {
   "cell_type": "code",
   "execution_count": 76,
   "id": "0b265bf2-d1d9-4ccd-be95-fe8b110d291e",
   "metadata": {},
   "outputs": [
    {
     "data": {
      "text/plain": [
       "array([[ 2. ,  6. , 12. ],\n",
       "       [ 4. , 12. ,  9.9]])"
      ]
     },
     "execution_count": 76,
     "metadata": {},
     "output_type": "execute_result"
    }
   ],
   "source": [
    "a2*a1"
   ]
  },
  {
   "cell_type": "code",
   "execution_count": 78,
   "id": "85e532de-5351-47c3-8182-e1a3055564be",
   "metadata": {},
   "outputs": [],
   "source": [
    "#smaller array is broadcast against the larger array, so that their shapes are compatible\n",
    "#two arrays are compatible if one of them is 1 or both are equal"
   ]
  },
  {
   "cell_type": "code",
   "execution_count": 81,
   "id": "30f6e560-cacc-48cb-8792-12fb7e148ac3",
   "metadata": {},
   "outputs": [
    {
     "ename": "ValueError",
     "evalue": "operands could not be broadcast together with shapes (2,3) (2,3,3) ",
     "output_type": "error",
     "traceback": [
      "\u001b[31m---------------------------------------------------------------------------\u001b[39m",
      "\u001b[31mValueError\u001b[39m                                Traceback (most recent call last)",
      "\u001b[36mCell\u001b[39m\u001b[36m \u001b[39m\u001b[32mIn[81]\u001b[39m\u001b[32m, line 1\u001b[39m\n\u001b[32m----> \u001b[39m\u001b[32m1\u001b[39m a2.reshape(\u001b[32m2\u001b[39m, \u001b[32m3\u001b[39m)*a3\n",
      "\u001b[31mValueError\u001b[39m: operands could not be broadcast together with shapes (2,3) (2,3,3) "
     ]
    }
   ],
   "source": [
    "a2.reshape(2, 3)*a3"
   ]
  },
  {
   "cell_type": "code",
   "execution_count": 83,
   "id": "f967d06e-da73-4215-ae5c-29d4c7207bf0",
   "metadata": {},
   "outputs": [
    {
     "data": {
      "text/plain": [
       "(array([[2. , 3. , 4. ],\n",
       "        [4. , 6. , 3.3]]),\n",
       " array([[[ 1,  2,  3],\n",
       "         [ 4,  5,  6],\n",
       "         [ 7,  8,  9]],\n",
       " \n",
       "        [[10, 11, 12],\n",
       "         [13, 14, 15],\n",
       "         [16, 17, 18]]]))"
      ]
     },
     "execution_count": 83,
     "metadata": {},
     "output_type": "execute_result"
    }
   ],
   "source": [
    "a2, a3"
   ]
  },
  {
   "cell_type": "code",
   "execution_count": 84,
   "id": "eefb8c4c-2be1-4c72-a664-66d223b2e734",
   "metadata": {},
   "outputs": [
    {
     "data": {
      "text/plain": [
       "array([[[  2. ,   6. ,  12. ],\n",
       "        [ 16. ,  30. ,  19.8]],\n",
       "\n",
       "       [[ 14. ,  24. ,  36. ],\n",
       "        [ 40. ,  66. ,  39.6]],\n",
       "\n",
       "       [[ 26. ,  42. ,  60. ],\n",
       "        [ 64. , 102. ,  59.4]]])"
      ]
     },
     "execution_count": 84,
     "metadata": {},
     "output_type": "execute_result"
    }
   ],
   "source": [
    "a2*a3.reshape(3,2,3)"
   ]
  },
  {
   "cell_type": "code",
   "execution_count": 85,
   "id": "5c41faf8-543b-4a93-a025-47dd38eeae43",
   "metadata": {},
   "outputs": [
    {
     "data": {
      "text/plain": [
       "array([[[ 1,  2,  3],\n",
       "        [ 4,  5,  6]],\n",
       "\n",
       "       [[ 7,  8,  9],\n",
       "        [10, 11, 12]],\n",
       "\n",
       "       [[13, 14, 15],\n",
       "        [16, 17, 18]]])"
      ]
     },
     "execution_count": 85,
     "metadata": {},
     "output_type": "execute_result"
    }
   ],
   "source": [
    "a3.reshape(3,2,3)"
   ]
  },
  {
   "cell_type": "code",
   "execution_count": 87,
   "id": "6183855e-05d2-4096-9c25-d5f489b12d92",
   "metadata": {},
   "outputs": [
    {
     "data": {
      "text/plain": [
       "array([1., 2., 3.])"
      ]
     },
     "execution_count": 87,
     "metadata": {},
     "output_type": "execute_result"
    }
   ],
   "source": [
    "a1/ones"
   ]
  },
  {
   "cell_type": "code",
   "execution_count": 89,
   "id": "742fb20d-0781-43be-9366-766c68f44395",
   "metadata": {},
   "outputs": [
    {
     "data": {
      "text/plain": [
       "(array([[2., 1., 1.],\n",
       "        [4., 3., 1.]]),\n",
       " array([[2.        , 1.5       , 1.33333333],\n",
       "        [4.        , 3.        , 1.1       ]]))"
      ]
     },
     "execution_count": 89,
     "metadata": {},
     "output_type": "execute_result"
    }
   ],
   "source": [
    "a2//a1, a2/a1"
   ]
  },
  {
   "cell_type": "code",
   "execution_count": 90,
   "id": "2771b176-3f65-49f9-9401-894bfda244bb",
   "metadata": {},
   "outputs": [
    {
     "data": {
      "text/plain": [
       "array([[ 4.  ,  9.  , 16.  ],\n",
       "       [16.  , 36.  , 10.89]])"
      ]
     },
     "execution_count": 90,
     "metadata": {},
     "output_type": "execute_result"
    }
   ],
   "source": [
    "a2**2 "
   ]
  },
  {
   "cell_type": "code",
   "execution_count": 91,
   "id": "8ae70808-3d37-49ae-87ce-1a6865b6f6f4",
   "metadata": {},
   "outputs": [
    {
     "data": {
      "text/plain": [
       "array([[ 4.  ,  9.  , 16.  ],\n",
       "       [16.  , 36.  , 10.89]])"
      ]
     },
     "execution_count": 91,
     "metadata": {},
     "output_type": "execute_result"
    }
   ],
   "source": [
    "np.square(a2)"
   ]
  },
  {
   "cell_type": "code",
   "execution_count": 92,
   "id": "e71d2fe0-dcaf-4f50-bf05-eda4280728be",
   "metadata": {},
   "outputs": [
    {
     "data": {
      "text/plain": [
       "array([2., 3., 4.])"
      ]
     },
     "execution_count": 92,
     "metadata": {},
     "output_type": "execute_result"
    }
   ],
   "source": [
    "np.add(a1, ones)"
   ]
  },
  {
   "cell_type": "code",
   "execution_count": 93,
   "id": "68f91400-cc57-4de0-8103-23f990e28d88",
   "metadata": {},
   "outputs": [
    {
     "data": {
      "text/plain": [
       "array([1, 0, 1])"
      ]
     },
     "execution_count": 93,
     "metadata": {},
     "output_type": "execute_result"
    }
   ],
   "source": [
    "a1%2"
   ]
  },
  {
   "cell_type": "code",
   "execution_count": 94,
   "id": "1e27cece-2f32-4969-b078-cf0656b19b47",
   "metadata": {},
   "outputs": [
    {
     "data": {
      "text/plain": [
       "array([ 2.71828183,  7.3890561 , 20.08553692])"
      ]
     },
     "execution_count": 94,
     "metadata": {},
     "output_type": "execute_result"
    }
   ],
   "source": [
    "np.exp(a1)"
   ]
  },
  {
   "cell_type": "code",
   "execution_count": 95,
   "id": "aefdeeaf-9907-48f7-ac7a-4f915efea1c9",
   "metadata": {},
   "outputs": [
    {
     "data": {
      "text/plain": [
       "array([0.        , 0.69314718, 1.09861229])"
      ]
     },
     "execution_count": 95,
     "metadata": {},
     "output_type": "execute_result"
    }
   ],
   "source": [
    "np.log(a1)"
   ]
  },
  {
   "cell_type": "markdown",
   "id": "1c871fc2-27c5-47a8-8c94-88be3b39b3e5",
   "metadata": {
    "jp-MarkdownHeadingCollapsed": true
   },
   "source": [
    "### Aggregation\n",
    "performing the same operation on a number of things"
   ]
  },
  {
   "cell_type": "code",
   "execution_count": 97,
   "id": "b1147b3d-db16-4c35-8f42-13bf7ba76380",
   "metadata": {},
   "outputs": [
    {
     "data": {
      "text/plain": [
       "list"
      ]
     },
     "execution_count": 97,
     "metadata": {},
     "output_type": "execute_result"
    }
   ],
   "source": [
    "list1=[1,2,3]\n",
    "type(list1)"
   ]
  },
  {
   "cell_type": "code",
   "execution_count": 98,
   "id": "b380c0fc-37d8-4d85-a47d-4d5cafd1f0b5",
   "metadata": {},
   "outputs": [
    {
     "data": {
      "text/plain": [
       "6"
      ]
     },
     "execution_count": 98,
     "metadata": {},
     "output_type": "execute_result"
    }
   ],
   "source": [
    "sum(list1)"
   ]
  },
  {
   "cell_type": "code",
   "execution_count": 100,
   "id": "fea57f60-3c6e-4538-8116-11897e6eaecb",
   "metadata": {},
   "outputs": [
    {
     "data": {
      "text/plain": [
       "(array([1, 2, 3]), numpy.ndarray)"
      ]
     },
     "execution_count": 100,
     "metadata": {},
     "output_type": "execute_result"
    }
   ],
   "source": [
    "a1, type(a1)"
   ]
  },
  {
   "cell_type": "code",
   "execution_count": 103,
   "id": "66f3e3d1-f206-4afb-9925-2d85708f4f4b",
   "metadata": {},
   "outputs": [
    {
     "data": {
      "text/plain": [
       "(np.int64(6), np.int64(6))"
      ]
     },
     "execution_count": 103,
     "metadata": {},
     "output_type": "execute_result"
    }
   ],
   "source": [
    "np.sum(a1), sum(a1)# whats the point of these two things?"
   ]
  },
  {
   "cell_type": "markdown",
   "id": "806c03d8-a5e1-4a26-8f8d-a51c494e190b",
   "metadata": {},
   "source": [
    "Use python methods on python datatypes and use numpy methods on ndarrays"
   ]
  },
  {
   "cell_type": "code",
   "execution_count": 107,
   "id": "cab66246-80e0-46ef-8752-d495b8935ef1",
   "metadata": {},
   "outputs": [
    {
     "data": {
      "text/plain": [
       "array([0.56358413, 0.55099991, 0.35053029, 0.40509707, 0.33113467,\n",
       "       0.98711108, 0.99769144, 0.6229722 , 0.15220111, 0.72726526])"
      ]
     },
     "execution_count": 107,
     "metadata": {},
     "output_type": "execute_result"
    }
   ],
   "source": [
    "massive_array=np.random.random(10000)\n",
    "massive_array[:10]"
   ]
  },
  {
   "cell_type": "code",
   "execution_count": 108,
   "id": "02c36512-1776-4d4b-bcea-dce6f9d8f02f",
   "metadata": {},
   "outputs": [
    {
     "name": "stdout",
     "output_type": "stream",
     "text": [
      "4.25 ms ± 319 μs per loop (mean ± std. dev. of 7 runs, 100 loops each)\n",
      "41.5 μs ± 9.29 μs per loop (mean ± std. dev. of 7 runs, 10,000 loops each)\n"
     ]
    }
   ],
   "source": [
    "%timeit sum(massive_array)#python sum\n",
    "%timeit np.sum(massive_array)#numpy sum"
   ]
  },
  {
   "cell_type": "code",
   "execution_count": 111,
   "id": "205808c0-98f4-4fe8-9171-7949ededa35f",
   "metadata": {},
   "outputs": [
    {
     "data": {
      "text/plain": [
       "1024.0963855421687"
      ]
     },
     "execution_count": 111,
     "metadata": {},
     "output_type": "execute_result"
    }
   ],
   "source": [
    "42500/41.5 #times faster"
   ]
  },
  {
   "cell_type": "code",
   "execution_count": 112,
   "id": "3e94b9ae-3501-4fbb-82b2-d57359f46a41",
   "metadata": {},
   "outputs": [
    {
     "data": {
      "text/plain": [
       "array([[2. , 3. , 4. ],\n",
       "       [4. , 6. , 3.3]])"
      ]
     },
     "execution_count": 112,
     "metadata": {},
     "output_type": "execute_result"
    }
   ],
   "source": [
    "a2"
   ]
  },
  {
   "cell_type": "code",
   "execution_count": 113,
   "id": "fb619988-c4ab-4048-b447-c3f713865d72",
   "metadata": {},
   "outputs": [
    {
     "data": {
      "text/plain": [
       "np.float64(3.716666666666667)"
      ]
     },
     "execution_count": 113,
     "metadata": {},
     "output_type": "execute_result"
    }
   ],
   "source": [
    "np.mean(a2)"
   ]
  },
  {
   "cell_type": "code",
   "execution_count": 119,
   "id": "1d9b5d92-f24e-4d9e-8557-6b56fead61cf",
   "metadata": {},
   "outputs": [
    {
     "data": {
      "text/plain": [
       "(np.float64(6.0),\n",
       " np.float64(2.0),\n",
       " np.float64(1.2253117517141867),\n",
       " np.float64(1.5013888888888889))"
      ]
     },
     "execution_count": 119,
     "metadata": {},
     "output_type": "execute_result"
    }
   ],
   "source": [
    "np.max(a2), np.min(a2), np.std(a2), np.var(a2) #var: measure of the average degree to which each number is different from the mean\n",
    "#Std: a measure of how spread out a group of numbers is from mean, how far away is every number from mean on average"
   ]
  },
  {
   "cell_type": "code",
   "execution_count": 120,
   "id": "efcd7b83-5aab-4919-9df5-5ac43933e961",
   "metadata": {},
   "outputs": [
    {
     "data": {
      "text/plain": [
       "np.float64(1.2253117517141867)"
      ]
     },
     "execution_count": 120,
     "metadata": {},
     "output_type": "execute_result"
    }
   ],
   "source": [
    "np.sqrt(np.var(a2))"
   ]
  },
  {
   "cell_type": "code",
   "execution_count": 122,
   "id": "2bfddcc2-d71b-40c1-a97d-406bd1abe19c",
   "metadata": {},
   "outputs": [],
   "source": [
    "# Demo of std and variance \n",
    "high_var_array = np.array([1,3,7,19, 30, 100, 230, 513])\n",
    "low_var_array=np.array([1,3,6,8,11,15])"
   ]
  },
  {
   "cell_type": "code",
   "execution_count": 123,
   "id": "240c2b3e-17bc-455a-8861-e781ac85b9b0",
   "metadata": {},
   "outputs": [
    {
     "data": {
      "text/plain": [
       "(np.float64(167.87751301171934), np.float64(4.714045207910317))"
      ]
     },
     "execution_count": 123,
     "metadata": {},
     "output_type": "execute_result"
    }
   ],
   "source": [
    "np.std(high_var_array), np.std(low_var_array)"
   ]
  },
  {
   "cell_type": "code",
   "execution_count": 124,
   "id": "5364b416-c2e9-48fc-b611-6e083ecec44e",
   "metadata": {},
   "outputs": [
    {
     "data": {
      "text/plain": [
       "(np.float64(28182.859375), np.float64(22.222222222222225))"
      ]
     },
     "execution_count": 124,
     "metadata": {},
     "output_type": "execute_result"
    }
   ],
   "source": [
    "np.var(high_var_array), np.var(low_var_array)"
   ]
  },
  {
   "cell_type": "code",
   "execution_count": 128,
   "id": "5fd310da-7c88-404b-92f6-d644153d4c8f",
   "metadata": {},
   "outputs": [],
   "source": [
    "%matplotlib inline\n",
    "import matplotlib.pyplot as plt"
   ]
  },
  {
   "cell_type": "code",
   "execution_count": 132,
   "id": "27b9ab9a-1075-4f44-abee-a96be74ffbc8",
   "metadata": {},
   "outputs": [
    {
     "data": {
      "image/png": "[encoded data removed]",
      "text/plain": [
       "<Figure size 640x480 with 1 Axes>"
      ]
     },
     "metadata": {},
     "output_type": "display_data"
    }
   ],
   "source": [
    "plt.hist(high_var_array)\n",
    "plt.show()"
   ]
  },
  {
   "cell_type": "code",
   "execution_count": 134,
   "id": "a7934ad7-6ccd-4796-b3c8-fe48f7dde047",
   "metadata": {},
   "outputs": [
    {
     "data": {
      "image/png": "[encoded data removed]",
      "text/plain": [
       "<Figure size 640x480 with 1 Axes>"
      ]
     },
     "metadata": {},
     "output_type": "display_data"
    }
   ],
   "source": [
    "plt.hist(low_var_array)\n",
    "plt.show()"
   ]
  },
  {
   "cell_type": "code",
   "execution_count": null,
   "id": "5c642989-7d00-4e44-b423-0fb68a3615e5",
   "metadata": {},
   "outputs": [],
   "source": []
  }
 ],
 "metadata": {
  "kernelspec": {
   "display_name": "Python 3 (ipykernel)",
   "language": "python",
   "name": "python3"
  },
  "language_info": {
   "codemirror_mode": {
    "name": "ipython",
    "version": 3
   },
   "file_extension": ".py",
   "mimetype": "text/x-python",
   "name": "python",
   "nbconvert_exporter": "python",
   "pygments_lexer": "ipython3",
   "version": "3.13.5"
  }
 },
 "nbformat": 4,
 "nbformat_minor": 5
}
