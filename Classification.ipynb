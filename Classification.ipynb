{
  "cells": [
    {
      "cell_type": "markdown",
      "metadata": {
        "id": "view-in-github",
        "colab_type": "text"
      },
      "source": [
        "<a href=\"https://colab.research.google.com/github/alizehadeel/AI-ML-Notebook/blob/main/Classification.ipynb\" target=\"_parent\"><img src=\"https://colab.research.google.com/assets/colab-badge.svg\" alt=\"Open In Colab\"/></a>"
      ]
    },
    {
      "cell_type": "markdown",
      "id": "ad003f7e",
      "metadata": {
        "id": "ad003f7e"
      },
      "source": [
        "\n",
        "# Assignment: Multiclass Text Classification — Student Task\n",
        "\n",
        "**Problem statement:**\n",
        "\n",
        "You are given a CSV dataset that contains **text data** and two numeric features. The dataset contains **missing values** and artificially injected **numeric outliers**. Your task is to implement a full ML pipeline that:\n",
        "\n",
        "1. Loads the CSV file.\n",
        "2. Performs EDA to show missing values, class balance and numeric distributions.\n",
        "3. Imputes missing values (text and numeric), encodes text using TF-IDF, encodes labels, and scales numeric features.\n",
        "4. Detects and removes numeric outliers using the IQR method (report rows removed).\n",
        "5. Trains and evaluates **Logistic Regression, SVM, KNN, Decision Tree, Random Forest** for **multi-class** classification.\n",
        "6. For each model, compute the **confusion matrix** and **classification report** (precision/recall/F1 per class).\n",
        "7. Produce a **comparison table and plot** of macro-averaged Precision, Recall, F1 and Accuracy across models and discuss results.\n",
        "\n",
        "**Dataset (local path):** `/mnt/data/multiclass_text_problem_dataset.csv`\n",
        "\n",
        "Run each cell in order. Students should add short markdown notes explaining their choices and observations after each major section.\n"
      ]
    },
    {
      "cell_type": "markdown",
      "id": "ca55b0aa",
      "metadata": {
        "id": "ca55b0aa"
      },
      "source": [
        "## 1. Imports"
      ]
    },
    {
      "cell_type": "code",
      "execution_count": null,
      "id": "1c5b9a43",
      "metadata": {
        "id": "1c5b9a43"
      },
      "outputs": [],
      "source": [
        "# Libraries\n",
        "import pandas as pd\n",
        "import numpy as np\n",
        "import matplotlib.pyplot as plt\n",
        "from sklearn.model_selection import train_test_split\n",
        "from sklearn.feature_extraction.text import TfidfVectorizer\n",
        "from sklearn.preprocessing import StandardScaler, LabelEncoder\n",
        "from sklearn.impute import SimpleImputer\n",
        "from sklearn.linear_model import LogisticRegression\n",
        "from sklearn.svm import SVC\n",
        "from sklearn.neighbors import KNeighborsClassifier\n",
        "from sklearn.tree import DecisionTreeClassifier\n",
        "from sklearn.ensemble import RandomForestClassifier\n",
        "from sklearn.metrics import classification_report, confusion_matrix, accuracy_score, precision_score, recall_score, f1_score\n",
        "from scipy.sparse import hstack, csr_matrix\n",
        "\n",
        "RANDOM_STATE = 42\n",
        "np.random.seed(RANDOM_STATE)\n"
      ]
    },
    {
      "cell_type": "markdown",
      "id": "1be7269a",
      "metadata": {
        "id": "1be7269a"
      },
      "source": [
        "## 2. Load dataset"
      ]
    },
    {
      "cell_type": "code",
      "execution_count": null,
      "id": "68273c7d",
      "metadata": {
        "id": "68273c7d",
        "outputId": "0f7dbd7f-65b9-43d3-c7c8-0a10db1a927f"
      },
      "outputs": [
        {
          "name": "stdout",
          "output_type": "stream",
          "text": [
            "Dataset shape: (600, 4)\n"
          ]
        },
        {
          "data": {
            "text/html": [
              "<div>\n",
              "<style scoped>\n",
              "    .dataframe tbody tr th:only-of-type {\n",
              "        vertical-align: middle;\n",
              "    }\n",
              "\n",
              "    .dataframe tbody tr th {\n",
              "        vertical-align: top;\n",
              "    }\n",
              "\n",
              "    .dataframe thead th {\n",
              "        text-align: right;\n",
              "    }\n",
              "</style>\n",
              "<table border=\"1\" class=\"dataframe\">\n",
              "  <thead>\n",
              "    <tr style=\"text-align: right;\">\n",
              "      <th></th>\n",
              "      <th>text</th>\n",
              "      <th>num_feat_1</th>\n",
              "      <th>num_feat_2</th>\n",
              "      <th>label</th>\n",
              "    </tr>\n",
              "  </thead>\n",
              "  <tbody>\n",
              "    <tr>\n",
              "      <th>0</th>\n",
              "      <td>season opener sees great performance by rookie...</td>\n",
              "      <td>44.967625</td>\n",
              "      <td>7.090626</td>\n",
              "      <td>sports</td>\n",
              "    </tr>\n",
              "    <tr>\n",
              "      <th>1</th>\n",
              "      <td>new smartphone release features better battery...</td>\n",
              "      <td>44.820873</td>\n",
              "      <td>5.482097</td>\n",
              "      <td>technology</td>\n",
              "    </tr>\n",
              "    <tr>\n",
              "      <th>2</th>\n",
              "      <td>doctor recommends balanced diet and sleep devi...</td>\n",
              "      <td>49.727101</td>\n",
              "      <td>4.465488</td>\n",
              "      <td>health</td>\n",
              "    </tr>\n",
              "    <tr>\n",
              "      <th>3</th>\n",
              "      <td>coach discusses strategy and training network ...</td>\n",
              "      <td>52.019074</td>\n",
              "      <td>3.390527</td>\n",
              "      <td>sports</td>\n",
              "    </tr>\n",
              "    <tr>\n",
              "      <th>4</th>\n",
              "      <td>election debates heat up over economy and law ...</td>\n",
              "      <td>54.933179</td>\n",
              "      <td>5.369672</td>\n",
              "      <td>politics</td>\n",
              "    </tr>\n",
              "  </tbody>\n",
              "</table>\n",
              "</div>"
            ],
            "text/plain": [
              "                                                text  num_feat_1  num_feat_2  \\\n",
              "0  season opener sees great performance by rookie...   44.967625    7.090626   \n",
              "1  new smartphone release features better battery...   44.820873    5.482097   \n",
              "2  doctor recommends balanced diet and sleep devi...   49.727101    4.465488   \n",
              "3  coach discusses strategy and training network ...   52.019074    3.390527   \n",
              "4  election debates heat up over economy and law ...   54.933179    5.369672   \n",
              "\n",
              "        label  \n",
              "0      sports  \n",
              "1  technology  \n",
              "2      health  \n",
              "3      sports  \n",
              "4    politics  "
            ]
          },
          "execution_count": 3,
          "metadata": {},
          "output_type": "execute_result"
        }
      ],
      "source": [
        "# Load CSV dataset\n",
        "path = r\"multiclass_text_problem_dataset.csv\"\n",
        "df = pd.read_csv(path)\n",
        "print('Dataset shape:', df.shape)\n",
        "df.head()"
      ]
    },
    {
      "cell_type": "markdown",
      "id": "19174f7b",
      "metadata": {
        "id": "19174f7b"
      },
      "source": [
        "## 3. Quick EDA"
      ]
    },
    {
      "cell_type": "code",
      "execution_count": null,
      "id": "968eac1d",
      "metadata": {
        "id": "968eac1d",
        "outputId": "437be3c7-b2f2-4962-f8ce-acbeceb9ff30"
      },
      "outputs": [
        {
          "name": "stdout",
          "output_type": "stream",
          "text": [
            "Missing values per column:\n",
            " text          29\n",
            "num_feat_1    34\n",
            "num_feat_2     0\n",
            "label          0\n",
            "dtype: int64\n",
            "\n",
            "Class distribution:\n",
            " sports        150\n",
            "technology    150\n",
            "health        150\n",
            "politics      150\n",
            "Name: label, dtype: int64\n"
          ]
        },
        {
          "data": {
            "image/png": "[encoded data removed]",
            "text/plain": [
              "<Figure size 1000x400 with 2 Axes>"
            ]
          },
          "metadata": {},
          "output_type": "display_data"
        }
      ],
      "source": [
        "print('Missing values per column:\\n', df.isna().sum())\n",
        "print('\\nClass distribution:\\n', df['label'].value_counts())\n",
        "\n",
        "df[['num_feat_1','num_feat_2']].describe()\n",
        "\n",
        "# Histograms\n",
        "_df = df.copy()\n",
        "_df[['num_feat_1','num_feat_2']].hist(bins=30, figsize=(10,4))\n",
        "plt.suptitle('Numeric feature distributions')\n",
        "plt.tight_layout()\n",
        "plt.show()"
      ]
    },
    {
      "cell_type": "markdown",
      "id": "63b58d1c",
      "metadata": {
        "id": "63b58d1c"
      },
      "source": [
        "## 4. Handle missing values (imputation)"
      ]
    },
    {
      "cell_type": "code",
      "execution_count": null,
      "id": "11d41099",
      "metadata": {
        "id": "11d41099",
        "outputId": "271fc749-22a1-4a04-8be0-eca544fe0da5"
      },
      "outputs": [
        {
          "name": "stdout",
          "output_type": "stream",
          "text": [
            "After imputation missing counts:\n",
            " text          0\n",
            "num_feat_1    0\n",
            "num_feat_2    0\n",
            "label         0\n",
            "dtype: int64\n"
          ]
        },
        {
          "data": {
            "text/html": [
              "<div>\n",
              "<style scoped>\n",
              "    .dataframe tbody tr th:only-of-type {\n",
              "        vertical-align: middle;\n",
              "    }\n",
              "\n",
              "    .dataframe tbody tr th {\n",
              "        vertical-align: top;\n",
              "    }\n",
              "\n",
              "    .dataframe thead th {\n",
              "        text-align: right;\n",
              "    }\n",
              "</style>\n",
              "<table border=\"1\" class=\"dataframe\">\n",
              "  <thead>\n",
              "    <tr style=\"text-align: right;\">\n",
              "      <th></th>\n",
              "      <th>text</th>\n",
              "      <th>num_feat_1</th>\n",
              "      <th>num_feat_2</th>\n",
              "      <th>label</th>\n",
              "    </tr>\n",
              "  </thead>\n",
              "  <tbody>\n",
              "    <tr>\n",
              "      <th>0</th>\n",
              "      <td>season opener sees great performance by rookie...</td>\n",
              "      <td>44.967625</td>\n",
              "      <td>7.090626</td>\n",
              "      <td>sports</td>\n",
              "    </tr>\n",
              "    <tr>\n",
              "      <th>1</th>\n",
              "      <td>new smartphone release features better battery...</td>\n",
              "      <td>44.820873</td>\n",
              "      <td>5.482097</td>\n",
              "      <td>technology</td>\n",
              "    </tr>\n",
              "    <tr>\n",
              "      <th>2</th>\n",
              "      <td>doctor recommends balanced diet and sleep devi...</td>\n",
              "      <td>49.727101</td>\n",
              "      <td>4.465488</td>\n",
              "      <td>health</td>\n",
              "    </tr>\n",
              "    <tr>\n",
              "      <th>3</th>\n",
              "      <td>coach discusses strategy and training network ...</td>\n",
              "      <td>52.019074</td>\n",
              "      <td>3.390527</td>\n",
              "      <td>sports</td>\n",
              "    </tr>\n",
              "    <tr>\n",
              "      <th>4</th>\n",
              "      <td>election debates heat up over economy and law ...</td>\n",
              "      <td>54.933179</td>\n",
              "      <td>5.369672</td>\n",
              "      <td>politics</td>\n",
              "    </tr>\n",
              "  </tbody>\n",
              "</table>\n",
              "</div>"
            ],
            "text/plain": [
              "                                                text  num_feat_1  num_feat_2  \\\n",
              "0  season opener sees great performance by rookie...   44.967625    7.090626   \n",
              "1  new smartphone release features better battery...   44.820873    5.482097   \n",
              "2  doctor recommends balanced diet and sleep devi...   49.727101    4.465488   \n",
              "3  coach discusses strategy and training network ...   52.019074    3.390527   \n",
              "4  election debates heat up over economy and law ...   54.933179    5.369672   \n",
              "\n",
              "        label  \n",
              "0      sports  \n",
              "1  technology  \n",
              "2      health  \n",
              "3      sports  \n",
              "4    politics  "
            ]
          },
          "execution_count": 5,
          "metadata": {},
          "output_type": "execute_result"
        }
      ],
      "source": [
        "df_prep = df.copy()\n",
        "# Text: fillna with placeholder\n",
        "df_prep['text'] = df_prep['text'].fillna('missing_text')\n",
        "# Numeric: median imputation\n",
        "num_imputer = SimpleImputer(strategy='median')\n",
        "df_prep[['num_feat_1','num_feat_2']] = num_imputer.fit_transform(df_prep[['num_feat_1','num_feat_2']])\n",
        "print('After imputation missing counts:\\n', df_prep.isna().sum())\n",
        "df_prep.head()"
      ]
    },
    {
      "cell_type": "markdown",
      "id": "05ddc513",
      "metadata": {
        "id": "05ddc513"
      },
      "source": [
        "## 5. Detect and remove numeric outliers using IQR"
      ]
    },
    {
      "cell_type": "code",
      "execution_count": null,
      "id": "5874283b",
      "metadata": {
        "id": "5874283b",
        "outputId": "9c79984c-fb81-4163-8e3a-a259d5e86c5c"
      },
      "outputs": [
        {
          "name": "stdout",
          "output_type": "stream",
          "text": [
            "Rows before outlier removal: 600\n",
            "Rows after outlier removal: 588 removed 12 rows\n"
          ]
        }
      ],
      "source": [
        "numeric_features = ['num_feat_1','num_feat_2']\n",
        "Q1 = df_prep[numeric_features].quantile(0.25)\n",
        "Q3 = df_prep[numeric_features].quantile(0.75)\n",
        "IQR = Q3 - Q1\n",
        "lower = Q1 - 1.5 * IQR\n",
        "upper = Q3 + 1.5 * IQR\n",
        "mask = ~((df_prep[numeric_features] < lower) | (df_prep[numeric_features] > upper)).any(axis=1)\n",
        "print('Rows before outlier removal:', df_prep.shape[0])\n",
        "df_no_out = df_prep[mask].copy()\n",
        "print('Rows after outlier removal:', df_no_out.shape[0], 'removed', df_prep.shape[0]-df_no_out.shape[0], 'rows')\n"
      ]
    },
    {
      "cell_type": "markdown",
      "id": "b74bb5c9",
      "metadata": {
        "id": "b74bb5c9"
      },
      "source": [
        "## 6. Preprocessing: TF-IDF for text, label encoding, scaling numeric features"
      ]
    },
    {
      "cell_type": "code",
      "execution_count": null,
      "id": "dff4ed9e",
      "metadata": {
        "id": "dff4ed9e",
        "outputId": "cfaca89a-3470-44ac-c25e-267305389ac6"
      },
      "outputs": [
        {
          "name": "stdout",
          "output_type": "stream",
          "text": [
            "X shape: (588, 418)\n",
            "Classes: ['health' 'politics' 'sports' 'technology']\n"
          ]
        }
      ],
      "source": [
        "# TF-IDF\n",
        "vectorizer = TfidfVectorizer(max_features=1000, ngram_range=(1,2))\n",
        "X_text = vectorizer.fit_transform(df_no_out['text'].values.astype('U'))\n",
        "# Scale numeric\n",
        "scaler = StandardScaler()\n",
        "X_num = scaler.fit_transform(df_no_out[['num_feat_1','num_feat_2']])\n",
        "X_num_sparse = csr_matrix(X_num)\n",
        "# Combine\n",
        "X = hstack([X_text, X_num_sparse])\n",
        "# Labels\n",
        "le = LabelEncoder()\n",
        "y = le.fit_transform(df_no_out['label'])\n",
        "print('X shape:', X.shape)\n",
        "print('Classes:', le.classes_)\n"
      ]
    },
    {
      "cell_type": "markdown",
      "id": "ee9d3125",
      "metadata": {
        "id": "ee9d3125"
      },
      "source": [
        "## 7. Train-test split"
      ]
    },
    {
      "cell_type": "code",
      "execution_count": null,
      "id": "9242c611",
      "metadata": {
        "id": "9242c611",
        "outputId": "48ba4aa3-4bb1-42d1-9a83-c6fdfa8703b0"
      },
      "outputs": [
        {
          "name": "stdout",
          "output_type": "stream",
          "text": [
            "Train shape: (470, 418) Test shape: (118, 418)\n"
          ]
        }
      ],
      "source": [
        "X_train, X_test, y_train, y_test = train_test_split(X, y, test_size=0.2, random_state=RANDOM_STATE, stratify=y)\n",
        "print('Train shape:', X_train.shape, 'Test shape:', X_test.shape)\n"
      ]
    },
    {
      "cell_type": "markdown",
      "id": "8fdeddc3",
      "metadata": {
        "id": "8fdeddc3"
      },
      "source": [
        "## 8. Train models and evaluate (multi-class)"
      ]
    },
    {
      "cell_type": "code",
      "execution_count": null,
      "id": "feead448",
      "metadata": {
        "id": "feead448",
        "outputId": "a5ac976d-ff3c-4557-f0be-c9c66bd3e14b"
      },
      "outputs": [
        {
          "name": "stdout",
          "output_type": "stream",
          "text": [
            "\n",
            "===== LogisticRegression =====\n",
            "Classification report:\n",
            "               precision    recall  f1-score   support\n",
            "\n",
            "      health       1.00      0.97      0.98        29\n",
            "    politics       0.91      1.00      0.95        29\n",
            "      sports       1.00      0.93      0.97        30\n",
            "  technology       0.97      0.97      0.97        30\n",
            "\n",
            "    accuracy                           0.97       118\n",
            "   macro avg       0.97      0.97      0.97       118\n",
            "weighted avg       0.97      0.97      0.97       118\n",
            "\n",
            "Confusion matrix:\n",
            " [[28  1  0  0]\n",
            " [ 0 29  0  0]\n",
            " [ 0  1 28  1]\n",
            " [ 0  1  0 29]]\n",
            "\n",
            "===== SVM =====\n",
            "Classification report:\n",
            "               precision    recall  f1-score   support\n",
            "\n",
            "      health       1.00      0.97      0.98        29\n",
            "    politics       0.91      1.00      0.95        29\n",
            "      sports       1.00      0.97      0.98        30\n",
            "  technology       1.00      0.97      0.98        30\n",
            "\n",
            "    accuracy                           0.97       118\n",
            "   macro avg       0.98      0.97      0.97       118\n",
            "weighted avg       0.98      0.97      0.97       118\n",
            "\n",
            "Confusion matrix:\n",
            " [[28  1  0  0]\n",
            " [ 0 29  0  0]\n",
            " [ 0  1 29  0]\n",
            " [ 0  1  0 29]]\n",
            "\n",
            "===== KNN =====\n",
            "Classification report:\n",
            "               precision    recall  f1-score   support\n",
            "\n",
            "      health       1.00      0.97      0.98        29\n",
            "    politics       0.88      1.00      0.94        29\n",
            "      sports       0.97      0.97      0.97        30\n",
            "  technology       1.00      0.90      0.95        30\n",
            "\n",
            "    accuracy                           0.96       118\n",
            "   macro avg       0.96      0.96      0.96       118\n",
            "weighted avg       0.96      0.96      0.96       118\n",
            "\n",
            "Confusion matrix:\n",
            " [[28  1  0  0]\n",
            " [ 0 29  0  0]\n",
            " [ 0  1 29  0]\n",
            " [ 0  2  1 27]]\n",
            "\n",
            "===== DecisionTree =====\n",
            "Classification report:\n",
            "               precision    recall  f1-score   support\n",
            "\n",
            "      health       1.00      0.97      0.98        29\n",
            "    politics       0.91      1.00      0.95        29\n",
            "      sports       1.00      0.93      0.97        30\n",
            "  technology       0.97      0.97      0.97        30\n",
            "\n",
            "    accuracy                           0.97       118\n",
            "   macro avg       0.97      0.97      0.97       118\n",
            "weighted avg       0.97      0.97      0.97       118\n",
            "\n",
            "Confusion matrix:\n",
            " [[28  1  0  0]\n",
            " [ 0 29  0  0]\n",
            " [ 0  1 28  1]\n",
            " [ 0  1  0 29]]\n",
            "\n",
            "===== RandomForest =====\n"
          ]
        },
        {
          "name": "stderr",
          "output_type": "stream",
          "text": [
            "C:\\Users\\DELL\\anaconda3\\lib\\site-packages\\sklearn\\neighbors\\_classification.py:228: FutureWarning: Unlike other reduction functions (e.g. `skew`, `kurtosis`), the default behavior of `mode` typically preserves the axis it acts along. In SciPy 1.11.0, this behavior will change: the default value of `keepdims` will become False, the `axis` over which the statistic is taken will be eliminated, and the value None will no longer be accepted. Set `keepdims` to True or False to avoid this warning.\n",
            "  mode, _ = stats.mode(_y[neigh_ind, k], axis=1)\n"
          ]
        },
        {
          "name": "stdout",
          "output_type": "stream",
          "text": [
            "Classification report:\n",
            "               precision    recall  f1-score   support\n",
            "\n",
            "      health       1.00      0.97      0.98        29\n",
            "    politics       0.91      1.00      0.95        29\n",
            "      sports       1.00      0.93      0.97        30\n",
            "  technology       0.97      0.97      0.97        30\n",
            "\n",
            "    accuracy                           0.97       118\n",
            "   macro avg       0.97      0.97      0.97       118\n",
            "weighted avg       0.97      0.97      0.97       118\n",
            "\n",
            "Confusion matrix:\n",
            " [[28  1  0  0]\n",
            " [ 0 29  0  0]\n",
            " [ 0  1 28  1]\n",
            " [ 0  1  0 29]]\n"
          ]
        }
      ],
      "source": [
        "models = {\n",
        "    'LogisticRegression': LogisticRegression(max_iter=1000, random_state=RANDOM_STATE),\n",
        "    'SVM': SVC(probability=True, random_state=RANDOM_STATE),\n",
        "    'KNN': KNeighborsClassifier(),\n",
        "    'DecisionTree': DecisionTreeClassifier(random_state=RANDOM_STATE),\n",
        "    'RandomForest': RandomForestClassifier(n_estimators=200, random_state=RANDOM_STATE)\n",
        "}\n",
        "\n",
        "results = []\n",
        "\n",
        "for name, model in models.items():\n",
        "    print('\\n===== {} ====='.format(name))\n",
        "    model.fit(X_train, y_train)\n",
        "    y_pred = model.predict(X_test)\n",
        "    print('Classification report:\\n', classification_report(y_test, y_pred, target_names=le.classes_))\n",
        "    cm = confusion_matrix(y_test, y_pred)\n",
        "    print('Confusion matrix:\\n', cm)\n",
        "    acc = accuracy_score(y_test, y_pred)\n",
        "    prec = precision_score(y_test, y_pred, average='macro', zero_division=0)\n",
        "    rec = recall_score(y_test, y_pred, average='macro', zero_division=0)\n",
        "    f1 = f1_score(y_test, y_pred, average='macro', zero_division=0)\n",
        "    results.append({'model': name, 'accuracy': acc, 'precision_macro': prec, 'recall_macro': rec, 'f1_macro': f1})\n"
      ]
    },
    {
      "cell_type": "markdown",
      "id": "434c6ce5",
      "metadata": {
        "id": "434c6ce5"
      },
      "source": [
        "## 9. Comparison table and plot"
      ]
    },
    {
      "cell_type": "code",
      "execution_count": null,
      "id": "80574b60",
      "metadata": {
        "id": "80574b60",
        "outputId": "479ddd22-e468-4c1f-de32-5bab2cea00f1"
      },
      "outputs": [
        {
          "data": {
            "image/png": "[encoded data removed]",
            "text/plain": [
              "<Figure size 800x500 with 1 Axes>"
            ]
          },
          "metadata": {},
          "output_type": "display_data"
        }
      ],
      "source": [
        "import pandas as pd\n",
        "results_df = pd.DataFrame(results).sort_values(by='f1_macro', ascending=False).reset_index(drop=True)\n",
        "results_df\n",
        "\n",
        "# Plot\n",
        "import matplotlib.pyplot as plt\n",
        "plt.figure(figsize=(8,5))\n",
        "indices = np.arange(len(results_df))\n",
        "width = 0.18\n",
        "plt.bar(indices - 1.5*width, results_df['accuracy'], width, label='Accuracy')\n",
        "plt.bar(indices - 0.5*width, results_df['precision_macro'], width, label='Precision (macro)')\n",
        "plt.bar(indices + 0.5*width, results_df['recall_macro'], width, label='Recall (macro)')\n",
        "plt.bar(indices + 1.5*width, results_df['f1_macro'], width, label='F1 (macro)')\n",
        "plt.xticks(indices, results_df['model'], rotation=45)\n",
        "plt.ylabel('Score')\n",
        "plt.title('Model comparison (macro-averaged metrics)')\n",
        "plt.legend()\n",
        "plt.tight_layout()\n",
        "plt.show()\n"
      ]
    },
    {
      "cell_type": "markdown",
      "id": "4fc43a12",
      "metadata": {
        "id": "4fc43a12"
      },
      "source": [
        "## Closing notes\n",
        "- Explain your preprocessing choices and discuss results.\n",
        "- Optionally extend with hyperparameter tuning and cross-validation.\n",
        "- Dataset file is available at the path shown above in the notebook environment.\n"
      ]
    }
  ],
  "metadata": {
    "kernelspec": {
      "display_name": "Python 3 (ipykernel)",
      "language": "python",
      "name": "python3"
    },
    "language_info": {
      "codemirror_mode": {
        "name": "ipython",
        "version": 3
      },
      "file_extension": ".py",
      "mimetype": "text/x-python",
      "name": "python",
      "nbconvert_exporter": "python",
      "pygments_lexer": "ipython3",
      "version": "3.9.13"
    },
    "colab": {
      "provenance": [],
      "include_colab_link": true
    }
  },
  "nbformat": 4,
  "nbformat_minor": 5
}